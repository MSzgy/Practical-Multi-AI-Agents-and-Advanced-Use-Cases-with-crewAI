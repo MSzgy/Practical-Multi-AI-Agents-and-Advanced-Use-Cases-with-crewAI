{
 "cells": [
  {
   "cell_type": "markdown",
   "id": "e744665e-7420-433f-8463-a674b66492d5",
   "metadata": {},
   "source": [
    "# L3: Agentic Sales Pipeline"
   ]
  },
  {
   "cell_type": "markdown",
   "id": "ba547b65-bcbd-4931-b091-57155b49c275",
   "metadata": {},
   "source": [
    "<p style=\"background-color:#fff6e4; padding:15px; border-width:3px; border-color:#f5ecda; border-style:solid; border-radius:6px\"> ⏳ <b>Note <code>(Kernel Starting)</code>:</b> This notebook takes about 30 seconds to be ready to use. You may start and watch the video while you wait.</p>"
   ]
  },
  {
   "cell_type": "markdown",
   "id": "790ff40f-0146-47f9-84db-36997a267b8d",
   "metadata": {},
   "source": [
    "## Initial Imports"
   ]
  },
  {
   "cell_type": "code",
   "execution_count": 11,
   "id": "0e3c15b4-6886-4c22-a2a6-36005a50c035",
   "metadata": {
    "height": 200
   },
   "outputs": [],
   "source": [
    "# Warning control\n",
    "import warnings\n",
    "warnings.filterwarnings('ignore')\n",
    "\n",
    "# Load environment variables\n",
    "from helper import load_env\n",
    "load_env()\n",
    "\n",
    "import os\n",
    "import yaml\n",
    "from crewai import Agent, Task, Crew"
   ]
  },
  {
   "cell_type": "markdown",
   "id": "c00f0d70-628e-4626-b430-6a409e2d8382",
   "metadata": {},
   "source": [
    "<p style=\"background-color:#fff6ff; padding:15px; border-width:3px; border-color:#efe6ef; border-style:solid; border-radius:6px\"> 💻 &nbsp; <b>Access <code>requirements.txt</code> and <code>helper.py</code> files:</b> 1) click on the <em>\"File\"</em> option on the top menu of the notebook and then 2) click on <em>\"Open\"</em>. For more help, please see the <em>\"Appendix - Tips and Help\"</em> Lesson.</p>"
   ]
  },
  {
   "cell_type": "markdown",
   "id": "b8402a3e-5e30-4b5e-8fa9-bed7403a62a7",
   "metadata": {},
   "source": [
    "## Load API tokens for our 3rd party APIs"
   ]
  },
  {
   "cell_type": "code",
   "execution_count": 12,
   "id": "f5e31c2e-ab46-4c55-80ad-9841f422ffc7",
   "metadata": {
    "height": 30
   },
   "outputs": [],
   "source": [
    "os.environ['OPENAI_MODEL_NAME'] = 'gpt-4o-mini'"
   ]
  },
  {
   "cell_type": "markdown",
   "id": "3ec2797f-c0de-451e-a73b-bff04f981172",
   "metadata": {},
   "source": [
    "## Loading Tasks and Agents YAML files"
   ]
  },
  {
   "cell_type": "code",
   "execution_count": 13,
   "id": "4c943fa8-fda9-495c-9225-a841af833fea",
   "metadata": {
    "height": 336
   },
   "outputs": [],
   "source": [
    "# Define file paths for YAML configurations\n",
    "files = {\n",
    "    'lead_agents': 'config/lead_qualification_agents.yaml',\n",
    "    'lead_tasks': 'config/lead_qualification_tasks.yaml',\n",
    "    'email_agents': 'config/email_engagement_agents.yaml',\n",
    "    'email_tasks': 'config/email_engagement_tasks.yaml'\n",
    "}\n",
    "\n",
    "# Load configurations from YAML files\n",
    "configs = {}\n",
    "for config_type, file_path in files.items():\n",
    "    with open(file_path, 'r') as file:\n",
    "        configs[config_type] = yaml.safe_load(file)\n",
    "\n",
    "# Assign loaded configurations to specific variables\n",
    "lead_agents_config = configs['lead_agents']\n",
    "lead_tasks_config = configs['lead_tasks']\n",
    "email_agents_config = configs['email_agents']\n",
    "email_tasks_config = configs['email_tasks']"
   ]
  },
  {
   "cell_type": "markdown",
   "id": "7e25d7e2-143d-4223-b770-75c5dcaa257e",
   "metadata": {},
   "source": [
    "## Create Pydantic Models for Structured Output"
   ]
  },
  {
   "cell_type": "code",
   "execution_count": 14,
   "id": "792a5ecb-fbc3-43e5-a5aa-06882d9f3765",
   "metadata": {
    "height": 438
   },
   "outputs": [],
   "source": [
    "from pydantic import BaseModel, Field\n",
    "from typing import Dict, Optional, List, Set, Tuple\n",
    "\n",
    "class LeadPersonalInfo(BaseModel):\n",
    "    name: str = Field(..., description=\"The full name of the lead.\")\n",
    "    job_title: str = Field(..., description=\"The job title of the lead.\")\n",
    "    role_relevance: int = Field(..., ge=0, le=10, description=\"A score representing how relevant the lead's role is to the decision-making process (0-10).\")\n",
    "    professional_background: Optional[str] = Field(..., description=\"A brief description of the lead's professional background.\")\n",
    "\n",
    "class CompanyInfo(BaseModel):\n",
    "    company_name: str = Field(..., description=\"The name of the company the lead works for.\")\n",
    "    industry: str = Field(..., description=\"The industry in which the company operates.\")\n",
    "    company_size: int = Field(..., description=\"The size of the company in terms of employee count.\")\n",
    "    revenue: Optional[float] = Field(None, description=\"The annual revenue of the company, if available.\")\n",
    "    market_presence: int = Field(..., ge=0, le=10, description=\"A score representing the company's market presence (0-10).\")\n",
    "\n",
    "class LeadScore(BaseModel):\n",
    "    score: int = Field(..., ge=0, le=100, description=\"The final score assigned to the lead (0-100).\")\n",
    "    scoring_criteria: List[str] = Field(..., description=\"The criteria used to determine the lead's score.\")\n",
    "    validation_notes: Optional[str] = Field(None, description=\"Any notes regarding the validation of the lead score.\")\n",
    "\n",
    "class LeadScoringResult(BaseModel):\n",
    "    personal_info: LeadPersonalInfo = Field(..., description=\"Personal information about the lead.\")\n",
    "    company_info: CompanyInfo = Field(..., description=\"Information about the lead's company.\")\n",
    "    lead_score: LeadScore = Field(..., description=\"The calculated score and related information for the lead.\")"
   ]
  },
  {
   "cell_type": "markdown",
   "id": "6a68f357-7b55-4bf4-a011-27f3df6d1f11",
   "metadata": {},
   "source": [
    "## Importing Tools"
   ]
  },
  {
   "cell_type": "code",
   "execution_count": 15,
   "id": "ad39d218-6727-4055-8ea7-c1610631f4ab",
   "metadata": {
    "height": 30
   },
   "outputs": [],
   "source": [
    "from crewai_tools import SerperDevTool, ScrapeWebsiteTool"
   ]
  },
  {
   "cell_type": "markdown",
   "id": "7efd8c33-7009-4794-96b7-9a59c8669083",
   "metadata": {},
   "source": [
    "## Lead Qualification Crew, Agents and Tasks"
   ]
  },
  {
   "cell_type": "code",
   "execution_count": 16,
   "id": "57e0ba2e-a86a-4a20-ab38-62eb89abdf57",
   "metadata": {
    "height": 829
   },
   "outputs": [
    {
     "name": "stderr",
     "output_type": "stream",
     "text": [
      "2024-11-01 16:15:54,147 - 139856010304384 - __init__.py-__init__:538 - WARNING: Overriding of current TracerProvider is not allowed\n"
     ]
    }
   ],
   "source": [
    "# Creating Agents\n",
    "lead_data_agent = Agent(\n",
    "  config=lead_agents_config['lead_data_agent'],\n",
    "  tools=[SerperDevTool(), ScrapeWebsiteTool()]\n",
    ")\n",
    "\n",
    "cultural_fit_agent = Agent(\n",
    "  config=lead_agents_config['cultural_fit_agent'],\n",
    "  tools=[SerperDevTool(), ScrapeWebsiteTool()]\n",
    ")\n",
    "\n",
    "scoring_validation_agent = Agent(\n",
    "  config=lead_agents_config['scoring_validation_agent'],\n",
    "  tools=[SerperDevTool(), ScrapeWebsiteTool()]\n",
    ")\n",
    "\n",
    "# Creating Tasks\n",
    "lead_data_task = Task(\n",
    "  config=lead_tasks_config['lead_data_collection'],\n",
    "  agent=lead_data_agent\n",
    ")\n",
    "\n",
    "cultural_fit_task = Task(\n",
    "  config=lead_tasks_config['cultural_fit_analysis'],\n",
    "  agent=cultural_fit_agent\n",
    ")\n",
    "\n",
    "scoring_validation_task = Task(\n",
    "  config=lead_tasks_config['lead_scoring_and_validation'],\n",
    "  agent=scoring_validation_agent,\n",
    "  context=[lead_data_task, cultural_fit_task],\n",
    "  output_pydantic=LeadScoringResult\n",
    ")\n",
    "\n",
    "# Creating Crew\n",
    "lead_scoring_crew = Crew(\n",
    "  agents=[\n",
    "    lead_data_agent,\n",
    "    cultural_fit_agent,\n",
    "    scoring_validation_agent\n",
    "  ],\n",
    "  tasks=[\n",
    "    lead_data_task,\n",
    "    cultural_fit_task,\n",
    "    scoring_validation_task\n",
    "  ],\n",
    "  verbose=True\n",
    ")"
   ]
  },
  {
   "cell_type": "markdown",
   "id": "80cec8e2-8aee-4abd-84c6-cde645f16e12",
   "metadata": {},
   "source": [
    "## Email Engagement Crew"
   ]
  },
  {
   "cell_type": "code",
   "execution_count": 17,
   "id": "fcd0e4d3-a150-4354-8deb-59c1758026fe",
   "metadata": {
    "height": 557
   },
   "outputs": [
    {
     "name": "stderr",
     "output_type": "stream",
     "text": [
      "2024-11-01 16:15:54,156 - 139856010304384 - __init__.py-__init__:538 - WARNING: Overriding of current TracerProvider is not allowed\n"
     ]
    }
   ],
   "source": [
    "# Creating Agents\n",
    "email_content_specialist = Agent(\n",
    "  config=email_agents_config['email_content_specialist']\n",
    ")\n",
    "\n",
    "engagement_strategist = Agent(\n",
    "  config=email_agents_config['engagement_strategist']\n",
    ")\n",
    "\n",
    "# Creating Tasks\n",
    "email_drafting = Task(\n",
    "  config=email_tasks_config['email_drafting'],\n",
    "  agent=email_content_specialist\n",
    ")\n",
    "\n",
    "engagement_optimization = Task(\n",
    "  config=email_tasks_config['engagement_optimization'],\n",
    "  agent=engagement_strategist\n",
    ")\n",
    "\n",
    "# Creating Crew\n",
    "email_writing_crew = Crew(\n",
    "  agents=[\n",
    "    email_content_specialist,\n",
    "    engagement_strategist\n",
    "  ],\n",
    "  tasks=[\n",
    "    email_drafting,\n",
    "    engagement_optimization\n",
    "  ],\n",
    "  verbose=True\n",
    ")"
   ]
  },
  {
   "cell_type": "markdown",
   "id": "38c235e8-9efd-4496-88fd-aa32b4744fb5",
   "metadata": {},
   "source": [
    "## Creating Complete Sales Flow"
   ]
  },
  {
   "cell_type": "code",
   "execution_count": 18,
   "id": "c6976784-c70c-4ec8-882a-12b1250f4354",
   "metadata": {
    "height": 812
   },
   "outputs": [],
   "source": [
    "from crewai import Flow\n",
    "from crewai.flow.flow import listen, start\n",
    "\n",
    "class SalesPipeline(Flow):\n",
    "    @start()\n",
    "    def fetch_leads(self):\n",
    "        # Pull our leads from the database\n",
    "        leads = [\n",
    "            {\n",
    "                \"lead_data\": {\n",
    "                    \"name\": \"João Moura\",\n",
    "                    \"job_title\": \"Director of Engineering\",\n",
    "                    \"company\": \"Clearbit\",\n",
    "                    \"email\": \"joao@clearbit.com\",\n",
    "                    \"use_case\": \"Using AI Agent to do better data enrichment.\"\n",
    "                },\n",
    "            },\n",
    "        ]\n",
    "        return leads\n",
    "\n",
    "    @listen(fetch_leads)\n",
    "    def score_leads(self, leads):\n",
    "        scores = lead_scoring_crew.kickoff_for_each(leads)\n",
    "        self.state[\"score_crews_results\"] = scores\n",
    "        return scores\n",
    "\n",
    "    @listen(score_leads)\n",
    "    def store_leads_score(self, scores):\n",
    "        # Here we would store the scores in the database\n",
    "        return scores\n",
    "\n",
    "    @listen(score_leads)\n",
    "    def filter_leads(self, scores):\n",
    "        return [score for score in scores if score['lead_score'].score > 70]\n",
    "\n",
    "    @listen(filter_leads)\n",
    "    def write_email(self, leads):\n",
    "        scored_leads = [lead.to_dict() for lead in leads]\n",
    "        emails = email_writing_crew.kickoff_for_each(scored_leads)\n",
    "        return emails\n",
    "\n",
    "    @listen(write_email)\n",
    "    def send_email(self, emails):\n",
    "        # Here we would send the emails to the leads\n",
    "        return emails\n",
    "\n",
    "flow = SalesPipeline()"
   ]
  },
  {
   "cell_type": "markdown",
   "id": "47a1d640-12d2-4dbd-8095-7fe47dbd729c",
   "metadata": {},
   "source": [
    "## Plotting the Flow"
   ]
  },
  {
   "cell_type": "code",
   "execution_count": 19,
   "id": "3c90a3f2-3bc1-446b-beff-4a02d84e72dd",
   "metadata": {
    "height": 30
   },
   "outputs": [
    {
     "name": "stdout",
     "output_type": "stream",
     "text": [
      "Graph saved as crewai_flow_graph.html\n"
     ]
    }
   ],
   "source": [
    "flow.plot()"
   ]
  },
  {
   "cell_type": "code",
   "execution_count": 20,
   "id": "5cd8e46b-e2fa-45a1-ab35-aaa1f3f2e0ff",
   "metadata": {
    "height": 64
   },
   "outputs": [
    {
     "data": {
      "text/html": [
       "\n",
       "        <iframe\n",
       "            width=\"150%\"\n",
       "            height=\"600\"\n",
       "            src=\"./crewai_flow.html\"\n",
       "            frameborder=\"0\"\n",
       "            allowfullscreen\n",
       "            \n",
       "        ></iframe>\n",
       "        "
      ],
      "text/plain": [
       "<IPython.lib.display.IFrame at 0x7f326fc13cd0>"
      ]
     },
     "execution_count": 20,
     "metadata": {},
     "output_type": "execute_result"
    }
   ],
   "source": [
    "from IPython.display import IFrame\n",
    "\n",
    "IFrame(src='./crewai_flow.html', width='150%', height=600)"
   ]
  },
  {
   "cell_type": "markdown",
   "id": "6aa4aa2c-cbe5-49a4-8569-0fa8d2d59666",
   "metadata": {},
   "source": [
    "## Flow Kickoff"
   ]
  },
  {
   "cell_type": "code",
   "execution_count": 21,
   "id": "4f00316a-7d09-4533-af24-0842366e122f",
   "metadata": {
    "height": 30
   },
   "outputs": [
    {
     "name": "stderr",
     "output_type": "stream",
     "text": [
      "2024-11-01 16:15:54,192 - 139856010304384 - __init__.py-__init__:538 - WARNING: Overriding of current TracerProvider is not allowed\n"
     ]
    },
    {
     "name": "stdout",
     "output_type": "stream",
     "text": [
      "\u001b[1m\u001b[95m# Agent:\u001b[00m \u001b[1m\u001b[92mLead Data Specialist\u001b[00m\n",
      "\u001b[95m## Task:\u001b[00m \u001b[92mCollect and analyze the following information about the lead:\n",
      "- Personal Information:\n",
      "  - Name: Obtain the full name of the lead.\n",
      "  - Job Title: Determine the lead's current job title.\n",
      "  - Role Relevance: Assess how relevant the lead's role is to the decision-making process on a scale from 0 to 10.\n",
      "  - Professional Background: Optionally, gather a brief description of the lead's professional background.\n",
      "\n",
      "- Company Information:\n",
      "  - Company Name: Identify the name of the company the lead works for.\n",
      "  - Industry: Determine the industry in which the company operates.\n",
      "  - Company Size: Estimate the size of the company in terms of employee count.\n",
      "  - Revenue: If available, collect information on the annual revenue of the company.\n",
      "  - Market Presence: Evaluate the company's market presence on a scale from 0 to 10.\n",
      "\n",
      "- Our Company and Product:\n",
      "  - Company Name: CrewAI\n",
      "  - Product: Multi-Agent Orchestration Platform\n",
      "  - ICP: Enterprise companies looking into Agentic automation.\n",
      "  - Pitch: We are a platform that allows you to orchestrate AI Agents for automations to any vertical.\n",
      "\n",
      "-Lead Data:\n",
      "  {'name': 'João Moura', 'job_title': 'Director of Engineering', 'company': 'Clearbit', 'email': 'joao@clearbit.com', 'use_case': 'Using AI Agent to do better data enrichment.'}\n",
      "\u001b[00m\n",
      "\n",
      "\n",
      "\u001b[1m\u001b[95m# Agent:\u001b[00m \u001b[1m\u001b[92mLead Data Specialist\u001b[00m\n",
      "\u001b[95m## Thought:\u001b[00m \u001b[92mI need to gather comprehensive information about the lead, including both personal and company-related data. I will start by searching for details about the lead's professional background, company information, and the specifics related to Clearbit.\u001b[00m\n",
      "\u001b[95m## Using tool:\u001b[00m \u001b[92mSearch the internet\u001b[00m\n",
      "\u001b[95m## Tool Input:\u001b[00m \u001b[92m\n",
      "\"{\\\"search_query\\\": \\\"Jo\\\\u00e3o Moura Director of Engineering Clearbit professional background\\\"}\"\u001b[00m\n",
      "\u001b[95m## Tool Output:\u001b[00m \u001b[92m\n",
      "\n",
      "Search results: Title: Meet João Moura: Clearbit's Senior Engineering Manager\n",
      "Link: https://clearbit.com/blog/joao-moura\n",
      "Snippet: João Moura has always been a leader. And for the past 4 years, he has been building and scaling the Clearbit engineering team as Senior Engineering Manager.\n",
      "---\n",
      "Title: About me - Joao Moura\n",
      "Link: http://joaomdmoura.com/about/\n",
      "Snippet: Currently an Engineering Manager, in the industry for 14+ years. Love speaking at conferences, working remotely, data science, game development and Open Source.\n",
      "---\n",
      "Title: João (Joe) Moura - crewAI - LinkedIn\n",
      "Link: https://br.linkedin.com/in/joaomdmoura\n",
      "Snippet: Results-driven Engineering Leader with close to 20 years of experience in the software… · Experiência: crewAI · Formação acadêmica: New York University ...\n",
      "---\n",
      "Title: João (Joe) Moura's Post - LinkedIn\n",
      "Link: https://www.linkedin.com/posts/joaomdmoura_fully-autonomous-departments-backed-by-ai-activity-7130285095780777985--4DP\n",
      "Snippet: It is designed to manage groups of role-playing AI agents, opening up possibilities for creating partially or fully autonomous departments.\n",
      "---\n",
      "Title: João Moura - Director of Engineering at Clearbit - Wiza\n",
      "Link: https://wiza.co/d/clearbit/6d1c/joao-moura\n",
      "Snippet: João Moura is based out of São Paulo, São Paulo, Brazil and works at Clearbit as Director of Engineering. Reveal contact info for free ...\n",
      "---\n",
      "Title: The Future of AI Agents - Joao Moura (CEO, CrewAI) - YouTube\n",
      "Link: https://www.youtube.com/watch?v=XUCsqpZohvg\n",
      "Snippet: ... Director of AI Engineering at Clearbit which was acquired by Hubspot ... Navigating Your ...\n",
      "---\n",
      "Title: Clearbit - Facebook\n",
      "Link: https://m.facebook.com/clearbitinc/?locale=sv_SE\n",
      "Snippet: ... Clearbit engineering team. Learn more about João's career path and journey to Clearbit. CLEARBIT.COM. Meet João Moura: Clearbit's Senior Engineering Manager.\n",
      "---\n",
      "Title: How Clearbit's team uses AI - Ben's Bites\n",
      "Link: https://bensbites.beehiiv.com/p/clearbits-team-uses-ai\n",
      "Snippet: So Clearbit began experimenting with AI, and João developed a predictive model for the likelihood of winning sales opportunities, which could ...\n",
      "---\n",
      "Title: Software Snack Bites - Apple Podcasts\n",
      "Link: https://podcasts.apple.com/us/podcast/software-snack-bites/id1669999483\n",
      "Snippet: Joao Moura is Founder & CEO of CrewAI, the leading multi-agent platform. He previously was Director of AI Engineering at Clearbit which was acquired by Hubspot.\n",
      "---\n",
      "\u001b[00m\n",
      "\n",
      "\n",
      "\u001b[1m\u001b[95m# Agent:\u001b[00m \u001b[1m\u001b[92mLead Data Specialist\u001b[00m\n",
      "\u001b[95m## Thought:\u001b[00m \u001b[92mThought: I found multiple relevant sources about João Moura's professional background. Now, I will gather detailed company information about Clearbit, including its industry, size, revenue, and market presence.\u001b[00m\n",
      "\u001b[95m## Using tool:\u001b[00m \u001b[92mSearch the internet\u001b[00m\n",
      "\u001b[95m## Tool Input:\u001b[00m \u001b[92m\n",
      "\"{\\\"search_query\\\": \\\"Clearbit company profile industry size revenue market presence\\\"}\"\u001b[00m\n",
      "\u001b[95m## Tool Output:\u001b[00m \u001b[92m\n",
      "\n",
      "Search results: Title: Clearbit - Market Share, Competitor Insights in Market Research\n",
      "Link: https://www.6sense.com/tech/market-research/clearbit-market-share\n",
      "Snippet: Companies using Clearbit for market-research are majorly from United States with 2,701 customers. 65.46% of Clearbit customers are from the United States. Other ...\n",
      "---\n",
      "Title: Clearbit Company Profile 2024: Valuation, Investors, Acquisition\n",
      "Link: https://pitchbook.com/profiles/company/101066-86\n",
      "Snippet: Information on acquisition, funding, cap tables, investors, and executives for Clearbit. Use the PitchBook Platform to explore the full profile.\n",
      "---\n",
      "Title: Total Addressable Market Calculator (TAM) - Clearbit\n",
      "Link: https://clearbit.com/resources/tools/tam-calculator\n",
      "Snippet: Calculate Total Addressable Market for free using our TAM calculator. Build your calculation instantly using our up-to-date database of 50M companies.\n",
      "---\n",
      "Title: Companies using Clearbit and its marketshare - Enlyft\n",
      "Link: https://enlyft.com/tech/products/clearbit\n",
      "Snippet: 3414 companies use Clearbit. Clearbit is most often used by companies with 10-50 employees & $1M-10M in revenue. Our usage data goes back 3 years.\n",
      "---\n",
      "Title: Clearbit - Company Profile - Tracxn\n",
      "Link: https://tracxn.com/d/companies/clearbit/__Ce8LwLChfXW6bZzY3dPGa0_FQQTE-gGHyGdZnzdvqT4\n",
      "Snippet: Clearbit - Business Intelligence APIs for Lead generation and enrichment. Acquired by HubSpot. Raised a total funding of $2M over 1 round from 14 investors.\n",
      "---\n",
      "Title: Leverage 100+ business data attributes - Clearbit\n",
      "Link: https://clearbit.com/attributes\n",
      "Snippet: Enrich your CRM and database, manage leads efficiently, and enable marketing personalization with over 100 business data points.\n",
      "---\n",
      "Title: Clearbit Company Overview, Contact Details & Competitors | LeadIQ\n",
      "Link: https://leadiq.com/c/clearbit/5a1d842e24000024005ea95d\n",
      "Snippet: Clearbit helps companies create, capture, and convert demand from ideal customers — all from one powerful and flexible go-to-market platform.\n",
      "---\n",
      "Title: Clearbit's story: why redefine an ideal customer profile?\n",
      "Link: https://clearbit.com/resources/books/ideal-customer-profile/redefining-icp\n",
      "Snippet: We found that the Pareto principle holds true for us: around 86% of Clearbit's long-term revenue comes from around 18% of the leads that enter our funnel. In ...\n",
      "---\n",
      "Title: How Clearbit hit $31.5M revenue and 907 customers in 2023.\n",
      "Link: https://getlatka.com/companies/clearbit\n",
      "Snippet: In 2023, Clearbit's revenue reached $31.5M up from $41.4M in 2022. The company previously reported $41.4M in 2022, $3.4M in 2021. Since its launch in 2015, ...\n",
      "---\n",
      "Title: How Does Clearbit Work? Guide to Data Enrichment 2024\n",
      "Link: https://www.bardeen.ai/answers/how-does-clearbit-work\n",
      "Snippet: Clearbit is a powerful data enrichment platform that helps businesses gain deeper insights into their customers and prospects.\n",
      "---\n",
      "\u001b[00m\n",
      "\n",
      "\n",
      "\u001b[1m\u001b[95m# Agent:\u001b[00m \u001b[1m\u001b[92mLead Data Specialist\u001b[00m\n",
      "\u001b[95m## Final Answer:\u001b[00m \u001b[92m\n",
      "**Personal Information:**\n",
      "- **Name:** João Moura\n",
      "- **Job Title:** Director of Engineering\n",
      "- **Role Relevance:** 9/10 (As a Director of Engineering, João significantly influences technology decisions and strategy within the company)\n",
      "- **Professional Background:** João Moura has over 14 years of experience in the software engineering field. He has been leading and scaling the Clearbit engineering team and has a history of working in data science, game development, and open-source projects. He previously held a position as Senior Engineering Manager before transitioning to Director of Engineering at Clearbit.\n",
      "\n",
      "**Company Information:**\n",
      "- **Company Name:** Clearbit\n",
      "- **Industry:** Business Intelligence / Data Enrichment\n",
      "- **Company Size:** Estimated 10-50 employees\n",
      "- **Revenue:** $31.5 million (as of 2023)\n",
      "- **Market Presence:** 8/10 (Clearbit serves a diverse client base, primarily in the United States, and has evolved considerably since its launch in 2015, showcasing strong growth in revenue and customer acquisition)\n",
      "\n",
      "João Moura’s expertise and leadership within Clearbit position him as a key player in potential decisions regarding automation and data enrichment, aligning closely with CrewAI's focus on enterprise automation solutions.\u001b[00m\n",
      "\n",
      "\n",
      "\u001b[1m\u001b[95m# Agent:\u001b[00m \u001b[1m\u001b[92mCultural Fit Analyst\u001b[00m\n",
      "\u001b[95m## Task:\u001b[00m \u001b[92mAssess the cultural alignment between the lead's company and our organization by considering the following:\n",
      "  - Cultural Values: Analyze the company's publicly stated values and internal culture (e.g., innovation, sustainability, employee engagement).\n",
      "  - Strategic Alignment: Evaluate how well the company's goals and mission align with our organization's strategic objectives.\n",
      "  - Qualitative Scoring: Assign a qualitative score (0-10) representing the overall cultural fit.\n",
      "  - Comments: Provide additional comments or observations that support the cultural fit score.\n",
      "\n",
      "- Our Company and Product:\n",
      "  - Company Name: CrewAI\n",
      "  - Product: Multi-Agent Orchestration Platform\n",
      "  - ICP: Enterprise companies looking into Agentic automation.\n",
      "  - Pitch: We are a platform that allows you to orchestrate AI Agents for automations to any vertical.\n",
      "\n",
      "- Lead Data:\n",
      "  {'name': 'João Moura', 'job_title': 'Director of Engineering', 'company': 'Clearbit', 'email': 'joao@clearbit.com', 'use_case': 'Using AI Agent to do better data enrichment.'}\n",
      "\u001b[00m\n"
     ]
    },
    {
     "name": "stdout",
     "output_type": "stream",
     "text": [
      "\n",
      "\n",
      "\u001b[1m\u001b[95m# Agent:\u001b[00m \u001b[1m\u001b[92mCultural Fit Analyst\u001b[00m\n",
      "\u001b[95m## Thought:\u001b[00m \u001b[92mI need to gather information about Clearbit's cultural values, mission, and strategic objectives to assess the cultural alignment with CrewAI. This assessment will help me determine the overall fit and provide a qualitative score.\u001b[00m\n",
      "\u001b[95m## Using tool:\u001b[00m \u001b[92mSearch the internet\u001b[00m\n",
      "\u001b[95m## Tool Input:\u001b[00m \u001b[92m\n",
      "\"{\\\"search_query\\\": \\\"Clearbit company culture values mission statement\\\"}\"\u001b[00m\n",
      "\u001b[95m## Tool Output:\u001b[00m \u001b[92m\n",
      "\n",
      "Search results: Title: Defining Clearbit's company values\n",
      "Link: https://clearbit.com/blog/company-values\n",
      "Snippet: Values provide a constitution for company culture, a rubric for how you work together. Here's how Clearbit came up with our company values ...\n",
      "---\n",
      "Title: Mission, Vision & Core Values of Clearbit - Business Model Canvas\n",
      "Link: https://canvasbusinessmodel.com/blogs/mission/clearbit-mission\n",
      "Snippet: At Clearbit, our mission is to empower companies with actionable business intelligence to make informed decisions and drive growth. We believe ...\n",
      "---\n",
      "Title: Clearbit Mission, Values, Culture & Jobs - Teal\n",
      "Link: https://www.tealhq.com/company/clearbit\n",
      "Snippet: Clearbit's core mission is centered around empowering businesses to understand and engage with their customers more effectively through data-driven insights.\n",
      "---\n",
      "Title: Values interviews - The Manager's Handbook\n",
      "Link: https://themanagershandbook.com/hiring-and-onboarding/interviewing/values-interviews\n",
      "Snippet: At Clearbit, we place a particular emphasis on building a close-knit team. We want to work with people whom we also enjoy spending time with.\n",
      "---\n",
      "Title: Clearbit Careers - Wellfound\n",
      "Link: https://wellfound.com/company/clearbit\n",
      "Snippet: Our mission is to build the data backbone for modern businesses. We believe in autonomy, automation, and the power of great data.\n",
      "---\n",
      "Title: A message from our CEO - Clearbit\n",
      "Link: https://clearbit.com/blog/company-update\n",
      "Snippet: Today we are announcing that Alex MacCaw, Clearbit's co-founder and CEO, is moving to a chairman of the board position.\n",
      "---\n",
      "Title: Welcoming Clearbit to the HubSpot Team\n",
      "Link: https://www.hubspot.com/company-news/welcoming-clearbit-to-hubspot\n",
      "Snippet: Clearbit was founded in 2014 and has made it its mission to collect amazingly rich and useful data about millions of companies – and build ...\n",
      "---\n",
      "Title: My first year at Clearbit: learning how to be remote and resourceful\n",
      "Link: https://clearbit.com/blog/remote-work-growth\n",
      "Snippet: Clearbit Global Coverage – delivering on our promise to be the best in B2B data. International coverage on companies, contact, and buying intent ...\n",
      "---\n",
      "Title: Scaling a Product Vision Through World-Class Team and Culture\n",
      "Link: https://www.youtube.com/watch?v=3G8-kz2Fsfo\n",
      "Snippet: Andrew O'Neal, Co-Founder of Clearbit - https://techsylvania.com/speakers/andrew-oneal/\n",
      "---\n",
      "\u001b[00m\n",
      "\n",
      "\n",
      "\u001b[1m\u001b[95m# Agent:\u001b[00m \u001b[1m\u001b[92mCultural Fit Analyst\u001b[00m\n",
      "\u001b[95m## Thought:\u001b[00m \u001b[92mThought: I found relevant sources that should provide the necessary information about Clearbit's company culture, values, mission, and strategic objectives. I will read the most promising source that seems to summarize all these aspects.\u001b[00m\n",
      "\u001b[95m## Using tool:\u001b[00m \u001b[92mRead website content\u001b[00m\n",
      "\u001b[95m## Tool Input:\u001b[00m \u001b[92m\n",
      "\"{\\\"website_url\\\": \\\"https://clearbit.com/blog/company-values\\\"}\"\u001b[00m\n",
      "\u001b[95m## Tool Output:\u001b[00m \u001b[92m\n",
      "Defining Clearbit's company valuesClearbit customer loginBlog>Defining Clearbit's company valuesDefining Clearbit's company valuesMatt Sornson|August 12, 2019|4 minute readIn mid-2018, Clearbit was hitting an inflection point.\n",
      "Since our founding in 2014, we'd been running as a small, hyper-efficient, and profitable business. Just about everyone in the company would weigh in on new hires, and every new employee spent significant time with the entire leadership team to understand what our values were. This organic model started to show some cracks as we started to scale.\n",
      "At thirty-odd employees, Clearbit did already have a real set of values, even if not everyone could verbalize them. In line with how we were building the company — deliberately and with a close eye on creating a culture we all wanted to be a part of — it was time to get official. The challenge: to codify and articulate our internal operating principles.\n",
      "We've effectively tripled our team, while maintaining an incredibly high bar and preserving the culture we all cherish. Choosing and then using our values has been instrumental in that success.\n",
      "Surfacing values, from the bottom up\n",
      "We believe that values should be a reflection of the entire team, not just the CEO or leadership. So when we set out to formalize Clearbit's, we started by asking the team.\n",
      "We sent out a survey to every employee, asking them to submit up to three values that they thought best described our culture. Of equal importance, we asked that they nominate the person at Clearbit they thought best exemplified that value.\n",
      "We were expecting to see a wide array of suggestions and had anticipated that the responses would require some serious workshopping to produce a final set. Incredibly, from the over 70 value suggestions, ALL of them could be grouped into 7 themes.\n",
      "being customer centric / empathy for customers\n",
      "learning\n",
      "excellence / hard work\n",
      "self-sufficiency\n",
      "fun\n",
      "honest communication\n",
      "team\n",
      "We took this list and reworked them to sound as Clearbit-y as possible, which ended up being really easy as we had dozens of variations pre-written by everyone who had submitted ideas. We also combined two of the suggestions, as excellence and learning are inseparable in our minds.\n",
      "Clearbit's Values\n",
      "Care (Give a shit). Empathize with customers. Take the time to understand their frustrations, needs, and desires.\n",
      "Craft (Master it). Own your craft. Never stop learning and improving.\n",
      "Team (Work together). Teamwork makes the dream work. Fill gaps. There’s no such thing as “it’s not my job.”\n",
      "Truth (Say it). Be upfront and candid. Say it like it is. Hold yourself and others accountable.\n",
      "Initiative (Be resourceful). Don’t wait for permission. Figure it out — or figure out who can.\n",
      "Fun (Have it). Don’t take yourself too seriously — life is short.\n",
      "So how do we actually use our values?\n",
      "Even the most thoughtfully-produced company values don't matter unless they're put into practice and used tactically. And when they're not actively referenced and applied across the company, they become an out-of-mind list that merely exists as a slide or rarely-opened document.\n",
      "Hiring rubric\n",
      "We built value testing into our hiring rubric and created semi-standardized questions that let us investigate without having to ask questions like, \"are you a team player?\".\n",
      "Person of the week\n",
      "Every week at our all-hands meeting, we highlight one value and a person whose actions best exemplifies that value. This regular practice helps new people get acclimated and gives shape to a list of values they see in their onboarding docs. It also regularly reinforces the values across the company, providing repetition around what they are and a nice moment of recognition and appreciation for team members.\n",
      "Feedback\n",
      "We take feedback seriously here at Clearbit and have worked to weave our values into that process — both by celebrating when someone really is leaning into a value and recognizing the learning moments when we fail to (which we all do sometimes).\n",
      "Values are alive!\n",
      "Our list of values is a living document that will evolve and change as we do. A company culture inevitably changes, and our values need to grow with us. If the values don't align or resonate with the individual values of our team, it's time to change.\n",
      "results of an internal survey measuring alignment between personal and company values\n",
      "Having integrity with our values is what builds trust in our relationships, and because we believe trust is the most basic building block of any organization, we commit to checking back on an annual basis to make sure we have values that truly represent our culture.\n",
      "It's easy to discount corporate values as just lip service and nice words to stick on the wall. However, when carefully created and implemented, values provide a constitution for your company culture, a true rubric that helps you hire, fire, promote, retain, and celebrate your team.\n",
      "CompanyThe Standard in B2B DataThe all new Clearbit. AI powered and free to get started.Create a Free AccountThe all new Clearbit. Rebuilt with AI and free to try.Companyby Matt Sornson on September 06, 2023In the last 4 months we’ve gone AI Native and shipped over 100 improvements to these datasets. With LLMs and some data black magic we've significantly increased our coverage and accuracy, and released a few all-new attributes. \n",
      "Read moreOur promise to be the best in B2B dataCompanyby Matt Sornson on July 11, 2023Clearbit Global Coverage – delivering on our promise to be the best in B2B data. \n",
      "International coverage on companies, contact, and buying intent. Millions of new companies, 250M new contacts, and so much more. Read moreThe Standard in B2B DataNow reinvented with Artificial Intelligence—Clearbit is the first AI Native Data Provider. Enrich your records, reveal buying intent, and connect with your ideal customers.Create a Free AccountResourcesBlogFree ToolsGuidesBooksWebinarsNewsletterRelease NotesInformationData AttributesSupportCompanyAbout UsCareersPressCustomersTrust CenterPrivacy PolicyStatusSupportLegalDo Not Sell My InfoManage Cookies© 2024 Clearbit\u001b[00m\n"
     ]
    },
    {
     "name": "stdout",
     "output_type": "stream",
     "text": [
      "\n",
      "\n",
      "\u001b[1m\u001b[95m# Agent:\u001b[00m \u001b[1m\u001b[92mCultural Fit Analyst\u001b[00m\n",
      "\u001b[95m## Final Answer:\u001b[00m \u001b[92m\n",
      "**Cultural Fit Assessment Report**\n",
      "\n",
      "**Clearbit's Cultural Values:**\n",
      "Clearbit's values are articulated through the following key principles:\n",
      "1. **Care (Give a shit)**: Empathize with customers and understand their frustrations and needs.\n",
      "2. **Craft (Master it)**: Own one's craft; emphasizing continuous learning and improvement.\n",
      "3. **Team (Work together)**: Highlighting teamwork and collaboration.\n",
      "4. **Truth (Say it)**: Encouraging candid communication and accountability.\n",
      "5. **Initiative (Be resourceful)**: Taking proactive steps without waiting for permission.\n",
      "6. **Fun (Have it)**: Maintaining a lighthearted and enjoyable workplace.\n",
      "\n",
      "These values are derived from contributions made by employees through an internal survey, and they reflect a commitment to fostering a positive culture.\n",
      "\n",
      "**Mission Statement:**\n",
      "Clearbit's mission is to empower companies with actionable business intelligence to make informed decisions and drive growth. Their emphasis on transparency and active engagement creates a data-driven environment that aligns closely with their core values.\n",
      "\n",
      "**Cultural Fit Score: 8/10**\n",
      "- **Cultural Values Analysis**: Clearbit’s values center around collaboration, transparency, and customer empathy, which resonate well with CrewAI's focus on teamwork and automation excellence. The culture emphasizes employee engagement and continuous improvement, mirroring CrewAI's values of innovation and quality service.\n",
      "  \n",
      "- **Strategic Alignment**: Clearbit’s focus on data enrichment through advanced AI is parallel to CrewAI’s objective of empowering enterprises through automation solutions. Their approach to utilizing data intelligently aligns with our goal of offering intelligent automation.\n",
      "\n",
      "**Additional Comments:**\n",
      "Clearbit's internal culture demonstrates a commitment to inclusivity and collective input in shaping their values, which highlights an open-minded and adaptive company culture. Their emphasis on fun and camaraderie fosters a positive workplace, essential for creativity and innovation—qualities that are vital for any partnership in technology and automation. \n",
      "\n",
      "Overall, the shared values and mission between Clearbit and CrewAI indicate a strong cultural fit that could support a successful partnership.\u001b[00m\n",
      "\n",
      "\n",
      "\u001b[1m\u001b[95m# Agent:\u001b[00m \u001b[1m\u001b[92mLead Scorer and Validator\u001b[00m\n",
      "\u001b[95m## Task:\u001b[00m \u001b[92mAggregate the collected data and perform the following steps: - Score Calculation: Based on predefined criteria, calculate a final lead score (0-100). Consider factors such as:\n",
      "  - Role Relevance\n",
      "  - Company Size\n",
      "  - Market Presence\n",
      "  - Cultural Fit\n",
      "- Scoring Criteria Documentation: List the criteria used to determine the score. - Validation: Review the collected data and the calculated score for consistency and accuracy. Make adjustments if necessary. - Final Report: Compile a summary report that includes the final validated lead score, the criteria used, and any validation notes.\n",
      "- Our Company and Product:\n",
      "  - Company Name: CrewAI\n",
      "  - Product: Multi-Agent Orchestration Platform\n",
      "  - ICP: Enterprise companies looking into Agentic automation.\n",
      "  - Pitch: We are a platform that allows you to orchestrate AI Agents for automations to any vertical.\n",
      "\n",
      "- Lead Data:\n",
      "  {'name': 'João Moura', 'job_title': 'Director of Engineering', 'company': 'Clearbit', 'email': 'joao@clearbit.com', 'use_case': 'Using AI Agent to do better data enrichment.'}\n",
      "\u001b[00m\n",
      "\n",
      "\n",
      "\u001b[1m\u001b[95m# Agent:\u001b[00m \u001b[1m\u001b[92mLead Scorer and Validator\u001b[00m\n",
      "\u001b[95m## Thought:\u001b[00m \u001b[92mI need to gather information regarding the company Clearbit to assess its relevance in the context of the lead data presented. This information will help me evaluate the company size, market presence, and other criteria to calculate the lead score accurately.\u001b[00m\n",
      "\u001b[95m## Using tool:\u001b[00m \u001b[92mSearch the internet\u001b[00m\n",
      "\u001b[95m## Tool Input:\u001b[00m \u001b[92m\n",
      "\"{\\\"search_query\\\": \\\"Clearbit company profile\\\"}\"\u001b[00m\n",
      "\u001b[95m## Tool Output:\u001b[00m \u001b[92m\n",
      "\n",
      "Search results: Title: Leverage 100+ business data attributes - Clearbit\n",
      "Link: https://clearbit.com/attributes\n",
      "Snippet: Enrich your CRM and database, manage leads efficiently, and enable marketing personalization with over 100 business data points.\n",
      "---\n",
      "Title: Clearbit Company Profile 2024: Valuation, Investors, Acquisition\n",
      "Link: https://pitchbook.com/profiles/company/101066-86\n",
      "Snippet: Information on acquisition, funding, cap tables, investors, and executives for Clearbit. Use the PitchBook Platform to explore the full profile.\n",
      "---\n",
      "Title: Clearbit - Crunchbase Company Profile & Funding\n",
      "Link: https://www.crunchbase.com/organization/clearbit\n",
      "Snippet: Clearbit develops business intelligence application program interface tools designed to help companies to find information about their customers.\n",
      "---\n",
      "Title: Clearbit is Now Breeze Intelligence for HubSpot\n",
      "Link: https://clearbit.com/\n",
      "Snippet: Now reinvented with Artificial Intelligence—Clearbit is the first HubSpot Native Data Provider. Enrich your records, score, route, and reveal buying intent ...\n",
      "---\n",
      "Title: Clearbit - Products, Competitors, Financials, Employees ...\n",
      "Link: https://www.cbinsights.com/company/clearbit\n",
      "Snippet: Clearbit provides business-to-business (B2B) marketing intelligence solutions. Use the CB Insights Platform to explore Clearbit's full profile.\n",
      "---\n",
      "Title: Clearbit - Company Profile - Tracxn\n",
      "Link: https://tracxn.com/d/companies/clearbit/__Ce8LwLChfXW6bZzY3dPGa0_FQQTE-gGHyGdZnzdvqT4\n",
      "Snippet: Clearbit - Business Intelligence APIs for Lead generation and enrichment. Acquired by HubSpot. Raised a total funding of $2M over 1 round from 14 investors.\n",
      "---\n",
      "Title: Clearbit Information - RocketReach\n",
      "Link: https://rocketreach.co/clearbit-profile_b5a7f4d5f75d56fc\n",
      "Snippet: Clearbit is a Software, Technology, Information and Internet, and Custom Software & Technical Consulting company located in San Francisco, California with ...\n",
      "---\n",
      "Title: Find any email address with Clearbit Connect\n",
      "Link: https://clearbit.com/resources/tools/connect\n",
      "Snippet: The fastest easiest way to find any business email address—for free. The perfect alternative to Rapportive, and directly within your Gmail or Outlook inbox.\n",
      "---\n",
      "Title: Clearbit company information, funding & investors | Dealroom.co\n",
      "Link: https://app.dealroom.co/companies/clearbit\n",
      "Snippet: Clearbit is the marketing data engine for all of your customer interactions. Learn more. Launch date. 2014. Employees. 51-200 people. Market cap.\n",
      "---\n",
      "\u001b[00m\n",
      "\n",
      "\n",
      "\u001b[1m\u001b[95m# Agent:\u001b[00m \u001b[1m\u001b[92mLead Scorer and Validator\u001b[00m\n",
      "\u001b[95m## Using tool:\u001b[00m \u001b[92mRead website content\u001b[00m\n",
      "\u001b[95m## Tool Input:\u001b[00m \u001b[92m\n",
      "\"{\\\"website_url\\\": \\\"https://www.crunchbase.com/organization/clearbit\\\"}\"\u001b[00m\n",
      "\u001b[95m## Tool Output:\u001b[00m \u001b[92m\n",
      "Attention Required! | Cloudflare\n",
      "Please enable cookies.\n",
      "Sorry, you have been blocked\n",
      "You are unable to access crunchbase.com\n",
      "Why have I been blocked?\n",
      "This website is using a security service to protect itself from online attacks. The action you just performed triggered the security solution. There are several actions that could trigger this block including submitting a certain word or phrase, a SQL command or malformed data.\n",
      "What can I do to resolve this?\n",
      "You can email the site owner to let them know you were blocked. Please include what you were doing when this page came up and the Cloudflare Ray ID found at the bottom of this page.\n",
      "Cloudflare Ray ID: 8dbd2ffb8a54cec1\n",
      "•\n",
      " Your IP:\n",
      " Click to reveal\n",
      "52.8.83.38\n",
      "•\n",
      "Performance & security by Cloudflare\u001b[00m\n",
      "\n",
      "\n",
      "\u001b[1m\u001b[95m# Agent:\u001b[00m \u001b[1m\u001b[92mLead Scorer and Validator\u001b[00m\n",
      "\u001b[95m## Using tool:\u001b[00m \u001b[92mRead website content\u001b[00m\n",
      "\u001b[95m## Tool Input:\u001b[00m \u001b[92m\n",
      "\"{\\\"website_url\\\": \\\"https://pitchbook.com/profiles/company/101066-86\\\"}\"\u001b[00m\n",
      "\u001b[95m## Tool Output:\u001b[00m \u001b[92m\n",
      "Just a moment...Enable JavaScript and cookies to continue\n",
      "\n",
      "\n",
      "You ONLY have access to the following tools, and should NEVER make up tools that are not listed here:\n",
      "\n",
      "Tool Name: Search the internet(**kwargs: Any) -> Any\n",
      "Tool Description: Search the internet(search_query: 'string') - A tool that can be used to search the internet with a search_query. search_query: 'Mandatory search query you want to use to search the internet'\n",
      "Tool Arguments: {'search_query': {'description': 'Mandatory search query you want to use to search the internet', 'title': 'Search Query', 'type': 'string'}}\n",
      "Tool Name: Read website content(**kwargs: Any) -> Any\n",
      "Tool Description: Read website content(website_url: 'string') - A tool that can be used to read a website content. website_url: 'Mandatory website url to read the file'\n",
      "Tool Arguments: {'website_url': {'description': 'Mandatory website url to read the file', 'title': 'Website Url', 'type': 'string'}}\n",
      "\n",
      "Use the following format:\n",
      "\n",
      "Thought: you should always think about what to do\n",
      "Action: the action to take, only one name of [Search the internet, Read website content], just the name, exactly as it's written.\n",
      "Action Input: the input to the action, just a simple python dictionary, enclosed in curly braces, using \" to wrap keys and values.\n",
      "Observation: the result of the action\n",
      "\n",
      "Once all necessary information is gathered:\n",
      "\n",
      "Thought: I now know the final answer\n",
      "Final Answer: the final answer to the original input question\n",
      "\u001b[00m\n"
     ]
    },
    {
     "name": "stdout",
     "output_type": "stream",
     "text": [
      "\n",
      "\n",
      "\u001b[1m\u001b[95m# Agent:\u001b[00m \u001b[1m\u001b[92mLead Scorer and Validator\u001b[00m\n",
      "\u001b[95m## Using tool:\u001b[00m \u001b[92mSearch the internet\u001b[00m\n",
      "\u001b[95m## Tool Input:\u001b[00m \u001b[92m\n",
      "\"{\\\"search_query\\\": \\\"Clearbit company overview and market presence\\\"}\"\u001b[00m\n",
      "\u001b[95m## Tool Output:\u001b[00m \u001b[92m\n",
      "\n",
      "Search results: Title: Clearbit is Now Breeze Intelligence for HubSpot\n",
      "Link: https://clearbit.com/\n",
      "Snippet: Now reinvented with Artificial Intelligence—Clearbit is the first HubSpot Native Data Provider. Enrich your records, score, route, and reveal buying intent ...\n",
      "---\n",
      "Title: Clearbit - Market Share, Competitor Insights in Market Research\n",
      "Link: https://www.6sense.com/tech/market-research/clearbit-market-share\n",
      "Snippet: Clearbit has market share of 1.85% in market-research market. Clearbit competes with 106 competitor tools in market-research category. The top alternatives for ...\n",
      "---\n",
      "Title: Clearbit Company Profile 2024: Valuation, Investors, Acquisition\n",
      "Link: https://pitchbook.com/profiles/company/101066-86\n",
      "Snippet: Information on acquisition, funding, cap tables, investors, and executives for Clearbit. Use the PitchBook Platform to explore the full profile.\n",
      "---\n",
      "Title: Leverage 100+ business data attributes - Clearbit\n",
      "Link: https://clearbit.com/attributes\n",
      "Snippet: Enrich your CRM and database, manage leads efficiently, and enable marketing personalization with over 100 business data points.\n",
      "---\n",
      "Title: Clearbit Company Overview, Contact Details & Competitors | LeadIQ\n",
      "Link: https://leadiq.com/c/clearbit/5a1d842e24000024005ea95d\n",
      "Snippet: Clearbit helps companies create, capture, and convert demand from ideal customers — all from one powerful and flexible go-to-market platform.\n",
      "---\n",
      "Title: Clearbit Inc - Company Profile and News - Bloomberg Markets\n",
      "Link: https://www.bloomberg.com/profile/company/1245643D:US\n",
      "Snippet: Company profile page for Clearbit Inc including stock price, company news, executives, board members, and contact information.\n",
      "---\n",
      "Title: Companies using Clearbit and its marketshare - Enlyft\n",
      "Link: https://enlyft.com/tech/products/clearbit\n",
      "Snippet: 3414 companies use Clearbit. Clearbit is most often used by companies with 10-50 employees & $1M-10M in revenue. Our usage data goes back 3 years.\n",
      "---\n",
      "Title: Clearbit - Crunchbase Company Profile & Funding\n",
      "Link: https://www.crunchbase.com/organization/clearbit\n",
      "Snippet: A platform offering features to optimize go-to-market operations, including data sync, alerts, and form shortening, often requiring CRM integration. Clearbit ...\n",
      "---\n",
      "Title: About Clearbit Data | The sourcing, processing, and delivery of ...\n",
      "Link: https://clearbit.com/our-data\n",
      "Snippet: Combining over 250 public and private data sources and sorting through billions of data points, we create marketing intelligence from a variety of sources.\n",
      "---\n",
      "Title: Clearbit - Company Profile - Tracxn\n",
      "Link: https://tracxn.com/d/companies/clearbit/__Ce8LwLChfXW6bZzY3dPGa0_FQQTE-gGHyGdZnzdvqT4\n",
      "Snippet: Clearbit - Business Intelligence APIs for Lead generation and enrichment. Acquired by HubSpot. Raised a total funding of $2M over 1 round from 14 investors.\n",
      "---\n",
      "\u001b[00m\n",
      "\n",
      "\n",
      "\u001b[1m\u001b[95m# Agent:\u001b[00m \u001b[1m\u001b[92mLead Scorer and Validator\u001b[00m\n",
      "\u001b[95m## Using tool:\u001b[00m \u001b[92mRead website content\u001b[00m\n",
      "\u001b[95m## Tool Input:\u001b[00m \u001b[92m\n",
      "\"{\\\"website_url\\\": \\\"https://leadiq.com/c/clearbit/5a1d842e24000024005ea95d\\\"}\"\u001b[00m\n",
      "\u001b[95m## Tool Output:\u001b[00m \u001b[92m\n",
      "Clearbit Company Overview, Contact Details & Competitors | LeadIQ Learn more at LeadIQ.com✕Access Insights for Clearbit and Millions of Other CompaniesSign up for full access to Clearbit information. No credit card needed.Continue with GoogleContinue with MicrosoftORWork emailCreate AccountBy creating an account, you agree to LeadIQ's Terms of Use and Privacy Policy.Start freeInsightsSimilar companiesTech StackMedia & NewsEmail FormatFAQInsightsStrategic Acquisition Clearbit has been acquired by HubSpot, indicating potential cross-selling opportunities to leverage Clearbit's capabilities within HubSpot's existing customer base.New Product Launch Clearbit's launch of Clearbit ChatGPT plugin creates opportunities for targeted outreach to B2B sales, marketing, and operations teams looking to optimize workflows.Strategic Partnership The partnership between Scarf Systems, Inc. and Clearbit opens doors for joint selling efforts to mutual customers, expanding market reach.Innovative Technology Clearbit's LLM technologies offer a unique solution for B2B teams to transform unstructured information into valuable datasets, providing an avenue for tech-driven sales engagements.Enhanced Marketing Capabilities The introduction of Clearbit Capture and the data-enabled platform showcases Clearbit's commitment to improving marketing effectiveness, offering sales teams enhanced lead generation and engagement opportunities.Similar companies to ClearbitClearbit51$10M$50MPipl100$10M$50MLeadspace103$10M$50MRadius Intelligence51$10M$50MExperian23K$1BZoomInfo4.2K$1BAcxiom3.9K$1BProspectaMarketing20$10M✕Access Insights for Clearbit and Millions of Other CompaniesSign up for full access to Clearbit information. No credit card needed.Continue with GoogleContinue with MicrosoftORWork emailCreate AccountBy creating an account, you agree to LeadIQ's Terms of Use and Privacy Policy.Explore similar companiesClearbit Tech StackClearbit uses 8 technology products and services including Segment, Salesforce, Google Workspace, and more. Explore Clearbit's tech stack below.SegmentCustomer Data PlatformsSalesforceCustomer Relationship ManagementGoogle WorkspaceEmailNetSuite ERPEnterprise Resource PlanningOracle EloquaMarketing AutomationLottieFilesMiscellaneousSalesforce Sales CloudSalesHSTSSecurityMedia & NewsClearbit identified as competitor of ZoomInfo Technologies LLC on Nov 1st '17.On Wednesday, November 1st, HubSpot announced that it was acquiring Clearbit, a sales intelligence platform that competes with the likes of Zoominfo and LinkedIn Sales Navigator.Nov 07, 2023 | blog.orangemarketing.comClearbit launches Clearbit ChatGPT plugin.Clearbit, a marketing intelligence solution, has introduced the Clearbit ChatGPT plugin to help B2B sales, marketing, and operations teams optimize their workflows.Aug 02, 2023 | fagenwasanni.comScarf Systems, Inc. partners with Clearbit.Scarf is thrilled to announce its latest partnership with Clearbit (https://clearbit.com/).May 07, 2023 | about.scarf.shClearbit launched LLM technologies on Feb 11th '23.Clearbit recently introduced LLM technologies to turn unstructured information into standardized data sets that are valuable to B2B teams.Mar 10, 2023 | apix-drive.netClearbit launches Capture.Clearbit, a B2B marketing intelligence provider, launched Capture, a new capability designed to help marketing teams more efficiently drive pipeline by automating intent-based outreach for best-fit website visitors.Oct 14, 2022 | www.demandgenreport.comClearbit integrates with LeanData Inc..Clearbit has integrated with LeanData to help revenue and operations teams accelerate speed-to-lead by enriching, qualifying, and routing Salesforce records to the right reps with the context needed to engage leads quickly.Sep 08, 2022 | www.destinationcrm.comClearbit launched data-enabled platform on Mar 8th '22.Clearbit, a leading provider of marketing information solutions, has announced its new data-enabled platform, now available to B2B marketing teams focused on demand generation, mind acquisition, and pipeline optimization.Mar 07, 2022 | vmedia.ioClearbit's Email Address FormatsClearbit uses at least 1 format(s):Clearbit Email FormatsExamplePercentageFirst@clearbit.comJohn@clearbit.com57%Last@clearbit.comDoe@clearbit.com36%First.Last@clearbit.comJohn.Doe@clearbit.com5%FLast@clearbit.comJDoe@clearbit.com2%See more formatsFrequently Asked QuestionsWhere is Clearbit's headquarters located?Clearbit's main headquarters is located at 90 Sheridan St San Francisco, California 94103 US. The company has employees across 5 continents, including North AmericaEuropeSouth America. What is Clearbit's phone number? You can contact Clearbit's main corporate office by phone at ✕Access Insights for Clearbit and Millions of Other CompaniesSign up for full access to Clearbit information. No credit card needed.Continue with GoogleContinue with MicrosoftORWork emailCreate AccountBy creating an account, you agree to LeadIQ's Terms of Use and Privacy Policy.+1-415-495-****. For more prospecting data, LeadIQ has access to up-to-date and accurate contact information within our platform. Find, capture, and sync contact data to your CRM and sales tools in one click. What is Clearbit's official website and social media links?Clearbit's official website is clearbit.com and has social profiles on LinkedIn.How much revenue does Clearbit generate? As of October 2024, Clearbit's annual revenue reached $15M. What is Clearbit's SIC code NAICS code?Clearbit's SIC code is 6153 - Short-Term Business Credit Institutions, Except Agricultural NAICS code is 5112 - Software Publishers.How many employees does Clearbit have currently?As of October 2024, Clearbit has approximately 51 employees across 5 continents, including North AmericaEuropeSouth America. Key team members include Vice President Design: M. G.Founder: K. C.Senior Customer Success Manager: E. R.. Explore Clearbit's employee directory with LeadIQ.What industry does Clearbit belong to?Clearbit operates in the Software Development industry. What technology does Clearbit use?Clearbit's tech stack includes SegmentSalesforceGoogle WorkspaceNetSuite ERPOracle EloquaLottieFilesSalesforce Sales CloudHSTS. What is Clearbit's email format?Clearbit's email format typically follows the pattern of . Find more Clearbit email formats with LeadIQ. How much funding has Clearbit raised to date? As of October 2024, Clearbit has raised $15M in funding. The last funding round occurred on Mar 19, 2019 for $15M.When was Clearbit founded?Clearbit was founded in 2015.Clearbit Software DevelopmentCalifornia, United States51-200 EmployeesClearbit helps companies create, capture, and convert demand from ideal customers — all from one powerful and flexible go-to-market platform.✕Access Insights for Clearbit and Millions of Other CompaniesSign up for full access to Clearbit information. No credit card needed.Continue with GoogleContinue with MicrosoftORWork emailCreate AccountBy creating an account, you agree to LeadIQ's Terms of Use and Privacy Policy.Sign up for free to view info Email Format Employee directory Company OverviewHeadquarters90 Sheridan St San Francisco, California 94103 USPhone number✕Access Insights for Clearbit and Millions of Other CompaniesSign up for full access to Clearbit information. No credit card needed.Continue with GoogleContinue with MicrosoftORWork emailCreate AccountBy creating an account, you agree to LeadIQ's Terms of Use and Privacy Policy.+1-415-495-****Websiteclearbit.comSIC Code6153 - Short-Term Business Credit Institutions, Except AgriculturalNAICS Code5112 - Software PublishersFounded2015Employees51-200 Media & NewsClearbit identified as competitor of ZoomInfo Technologies LLC on Nov 1st '17.Nov 07, 2023 | blog.orangemarketing.comClearbit launches Clearbit ChatGPT plugin.Aug 02, 2023 | fagenwasanni.comScarf Systems, Inc. partners with Clearbit.May 07, 2023 | about.scarf.shRead more newsFunding & Financials$15MClearbit has raised a total of $15M of funding over 2 rounds. Their latest funding round was raised on Mar 19, 2019 in the amount of $15M.$10M$50MClearbit's revenue is in the range of $10M$50MFunding & Financials$15MClearbit has raised a total of $15M of funding over 2 rounds. Their latest funding round was raised on Mar 19, 2019 in the amount of $15M.$10M$50MClearbit's revenue is in the range of $10M$50MCompany LeadershipM. G.Vice President Design✕Access Insights for Clearbit and Millions of Other CompaniesSign up for full access to Clearbit information. No credit card needed.Continue with GoogleContinue with MicrosoftORWork emailCreate AccountBy creating an account, you agree to LeadIQ's Terms of Use and Privacy Policy. Mobile Phone ✕Access Insights for Clearbit and Millions of Other CompaniesSign up for full access to Clearbit information. No credit card needed.Continue with GoogleContinue with MicrosoftORWork emailCreate AccountBy creating an account, you agree to LeadIQ's Terms of Use and Privacy Policy. Email K. C.Founder✕Access Insights for Clearbit and Millions of Other CompaniesSign up for full access to Clearbit information. No credit card needed.Continue with GoogleContinue with MicrosoftORWork emailCreate AccountBy creating an account, you agree to LeadIQ's Terms of Use and Privacy Policy. Mobile Phone ✕Access Insights for Clearbit and Millions of Other CompaniesSign up for full access to Clearbit information. No credit card needed.Continue with GoogleContinue with MicrosoftORWork emailCreate AccountBy creating an account, you agree to LeadIQ's Terms of Use and Privacy Policy. Email E. R.Senior Customer Success Manager✕Access Insights for Clearbit and Millions of Other CompaniesSign up for full access to Clearbit information. No credit card needed.Continue with GoogleContinue with MicrosoftORWork emailCreate AccountBy creating an account, you agree to LeadIQ's Terms of Use and Privacy Policy. Mobile Phone ✕Access Insights for Clearbit and Millions of Other CompaniesSign up for full access to Clearbit information. No credit card needed.Continue with GoogleContinue with MicrosoftORWork emailCreate AccountBy creating an account, you agree to LeadIQ's Terms of Use and Privacy Policy. Email H. T.Enterprise Customer Success Manager✕Access Insights for Clearbit and Millions of Other CompaniesSign up for full access to Clearbit information. No credit card needed.Continue with GoogleContinue with MicrosoftORWork emailCreate AccountBy creating an account, you agree to LeadIQ's Terms of Use and Privacy Policy. Mobile Phone ✕Access Insights for Clearbit and Millions of Other CompaniesSign up for full access to Clearbit information. No credit card needed.Continue with GoogleContinue with MicrosoftORWork emailCreate AccountBy creating an account, you agree to LeadIQ's Terms of Use and Privacy Policy. Email A. S.Product Operations Manager✕Access Insights for Clearbit and Millions of Other CompaniesSign up for full access to Clearbit information. No credit card needed.Continue with GoogleContinue with MicrosoftORWork emailCreate AccountBy creating an account, you agree to LeadIQ's Terms of Use and Privacy Policy. Mobile Phone ✕Access Insights for Clearbit and Millions of Other CompaniesSign up for full access to Clearbit information. No credit card needed.Continue with GoogleContinue with MicrosoftORWork emailCreate AccountBy creating an account, you agree to LeadIQ's Terms of Use and Privacy Policy. Email Employee DirectoryB. L.Senior Customer Success Manager✕Access Insights for Clearbit and Millions of Other CompaniesSign up for full access to Clearbit information. No credit card needed.Continue with GoogleContinue with MicrosoftORWork emailCreate AccountBy creating an account, you agree to LeadIQ's Terms of Use and Privacy Policy. Mobile Phone ✕Access Insights for Clearbit and Millions of Other CompaniesSign up for full access to Clearbit information. No credit card needed.Continue with GoogleContinue with MicrosoftORWork emailCreate AccountBy creating an account, you agree to LeadIQ's Terms of Use and Privacy Policy. Email J. M.Sdr Manager✕Access Insights for Clearbit and Millions of Other CompaniesSign up for full access to Clearbit information. No credit card needed.Continue with GoogleContinue with MicrosoftORWork emailCreate AccountBy creating an account, you agree to LeadIQ's Terms of Use and Privacy Policy. Mobile Phone ✕Access Insights for Clearbit and Millions of Other CompaniesSign up for full access to Clearbit information. No credit card needed.Continue with GoogleContinue with MicrosoftORWork emailCreate AccountBy creating an account, you agree to LeadIQ's Terms of Use and Privacy Policy. Email A. D.Senior Software Engineer✕Access Insights for Clearbit and Millions of Other CompaniesSign up for full access to Clearbit information. No credit card needed.Continue with GoogleContinue with MicrosoftORWork emailCreate AccountBy creating an account, you agree to LeadIQ's Terms of Use and Privacy Policy. Mobile Phone ✕Access Insights for Clearbit and Millions of Other CompaniesSign up for full access to Clearbit information. No credit card needed.Continue with GoogleContinue with MicrosoftORWork emailCreate AccountBy creating an account, you agree to LeadIQ's Terms of Use and Privacy Policy. Email B. R.Senior Support Engineer✕Access Insights for Clearbit and Millions of Other CompaniesSign up for full access to Clearbit information. No credit card needed.Continue with GoogleContinue with MicrosoftORWork emailCreate AccountBy creating an account, you agree to LeadIQ's Terms of Use and Privacy Policy. Mobile Phone ✕Access Insights for Clearbit and Millions of Other CompaniesSign up for full access to Clearbit information. No credit card needed.Continue with GoogleContinue with MicrosoftORWork emailCreate AccountBy creating an account, you agree to LeadIQ's Terms of Use and Privacy Policy. Email M. T.Senior Account Executive, Growth✕Access Insights for Clearbit and Millions of Other CompaniesSign up for full access to Clearbit information. No credit card needed.Continue with GoogleContinue with MicrosoftORWork emailCreate AccountBy creating an account, you agree to LeadIQ's Terms of Use and Privacy Policy. Mobile Phone ✕Access Insights for Clearbit and Millions of Other CompaniesSign up for full access to Clearbit information. No credit card needed.Continue with GoogleContinue with MicrosoftORWork emailCreate AccountBy creating an account, you agree to LeadIQ's Terms of Use and Privacy Policy. Email Go to Employee DirectoryReady to create more pipeline?Get a demo and discover why thousands of SDR and Sales teams trust LeadIQ to help them build pipeline confidently.✕Access Insights for Clearbit and Millions of Other CompaniesSign up for full access to Clearbit information. No credit card needed.Continue with GoogleContinue with MicrosoftORWork emailCreate AccountBy creating an account, you agree to LeadIQ's Terms of Use and Privacy Policy.Sign me upReady to create more pipeline?Get a demo and discover why thousands of SDR and Sales teams trustLeadIQ to help them build pipeline confidently.Book a demoPlatformIdentify prospect dataTrack sales triggersCompose personalized messagesEnrich Salesforce dataSuccess StoriesResourcesPricingBlogCompany SearchSupportCareersData CommunityOur DataPrivacy CenterLegalPrivacy PolicyCookie PolicyTerms of ServiceDo Not Sell or Share My Personal InformationCompareLeadIQ vs. ZoominfoLeadIQ vs. ApolloLeadIQ vs. LushaLeadIQ vs. CognismLeadIQ vs. Seamless.aiLeadIQ vs. UsergemsLeadIQ vs. ChampifyContact1-888-653-2347 support@leadiq.com sales@leadiq.com © LeadIQ, Inc. All rights reserved.\u001b[00m\n"
     ]
    },
    {
     "name": "stdout",
     "output_type": "stream",
     "text": [
      "\n",
      "\n",
      "\u001b[1m\u001b[95m# Agent:\u001b[00m \u001b[1m\u001b[92mLead Scorer and Validator\u001b[00m\n",
      "\u001b[95m## Final Answer:\u001b[00m \u001b[92m\n",
      "```markdown\n",
      "## Final Lead Score Report\n",
      "\n",
      "- **Final Lead Score:** 90/100\n",
      "- **Scoring Criteria Used:**\n",
      "  1. **Role Relevance:** 30 points (Director of Engineering)\n",
      "  2. **Company Size:** 15 points (51-200 employees)\n",
      "  3. **Market Presence:** 25 points (Acquired by HubSpot)\n",
      "  4. **Cultural Fit:** 20 points (Alignment with AI automation focus)\n",
      "  \n",
      "- **Validation Notes:** All data collected is accurate and consistent, suggesting a strong lead quality for potential engagement by CrewAI.\n",
      "```\u001b[00m\n",
      "\n",
      "\n"
     ]
    },
    {
     "name": "stderr",
     "output_type": "stream",
     "text": [
      "2024-11-01 16:16:31,733 - 139856010304384 - __init__.py-__init__:538 - WARNING: Overriding of current TracerProvider is not allowed\n"
     ]
    },
    {
     "name": "stdout",
     "output_type": "stream",
     "text": [
      "\u001b[1m\u001b[95m# Agent:\u001b[00m \u001b[1m\u001b[92mEmail Content Writer\u001b[00m\n",
      "\u001b[95m## Task:\u001b[00m \u001b[92mCraft a highly personalized email using the lead's name, job title, company information, and any relevant personal or company achievements. The email should speak directly to the lead's interests and the needs of their company. This is not as cold outreach as it is a follow up to a lead form, so keep it short and to the point. Don't use any salutations or closing remarks, nor too complex sentences.\n",
      "Our Company and Product: - Company Name: CrewAI - Product: Multi-Agent Orchestration Platform - ICP: Enterprise companies looking into Agentic automation. - Pitch: We are a platform that allows you to orchestrate AI Agents for automations to any vertical.\n",
      "Use the following information: Personal Info: {'name': '[Lead Name]', 'job_title': 'Director of Engineering', 'role_relevance': 10, 'professional_background': None} Company Info: {'company_name': '[Company Name]', 'industry': 'AI automation', 'company_size': 100, 'revenue': None, 'market_presence': 10} Lead Score: {'score': 90, 'scoring_criteria': ['Role Relevance: 10 points (Director of Engineering)', 'Company Size: 15 points (51-200 employees)', 'Market Presence: 10 points (Acquired by HubSpot)', 'Cultural Fit: 20 points (Alignment with AI automation focus)'], 'validation_notes': 'All data collected is accurate and consistent, suggesting a strong lead quality for potential engagement by CrewAI.'}\n",
      "\u001b[00m\n",
      "\n",
      "\n",
      "\u001b[1m\u001b[95m# Agent:\u001b[00m \u001b[1m\u001b[92mEmail Content Writer\u001b[00m\n",
      "\u001b[95m## Final Answer:\u001b[00m \u001b[92m\n",
      "[Lead Name], as the Director of Engineering at [Company Name], your leadership in AI automation is impressive, especially with the recent acquisition by HubSpot. CrewAI's Multi-Agent Orchestration Platform can seamlessly integrate into your existing frameworks, enabling your team to orchestrate AI agents tailored to multiple verticals. Given your company's strong market presence and focus on innovative automation solutions, our platform can enhance efficiency and drive scalable results for your operations. Let’s explore how CrewAI can specifically support [Company Name]'s goals in AI automation.\u001b[00m\n",
      "\n",
      "\n",
      "\u001b[1m\u001b[95m# Agent:\u001b[00m \u001b[1m\u001b[92mEngagement Optimization Specialist\u001b[00m\n",
      "\u001b[95m## Task:\u001b[00m \u001b[92mReview the personalized email draft and optimize it with strong CTAs and engagement hooks. Keep in mind they reached out and filled a lead form. Keep it short and to the point. Don't use any salutations or closing remarks, nor too complex sentences. Ensure the email encourages the lead to schedule a meeting or take another desired action immediately.\n",
      "Our Company and Product: - Company Name: CrewAI - Product: Multi-Agent Orchestration Platform - ICP: Enterprise companies looking into Agentic automation. - Pitch: We are a platform that allows you to orchestrate AI Agents for automations to any vertical.\n",
      "\u001b[00m\n",
      "\n",
      "\n",
      "\u001b[1m\u001b[95m# Agent:\u001b[00m \u001b[1m\u001b[92mEngagement Optimization Specialist\u001b[00m\n",
      "\u001b[95m## Final Answer:\u001b[00m \u001b[92m\n",
      "[Lead Name], with your recent acquisition by HubSpot, now is the perfect time to elevate your AI automation game. CrewAI's Multi-Agent Orchestration Platform is designed for enterprise companies like [Company Name] to streamline your operations and orchestrate AI agents across various verticals. \n",
      "\n",
      "Imagine how our solution can enhance your team's productivity and drive measurable outcomes. \n",
      "\n",
      "Schedule a demo today to see firsthand how CrewAI can align with [Company Name]'s objectives. Click here to book a time that suits you: [Insert Scheduling Link]. \n",
      "\n",
      "Don't miss out on optimizing your automation strategies for immediate results - your team's transformation starts now!\u001b[00m\n",
      "\n",
      "\n"
     ]
    }
   ],
   "source": [
    "emails = await flow.kickoff()"
   ]
  },
  {
   "cell_type": "markdown",
   "id": "69752619-a9b6-4361-89d4-cbd35dbcb0c0",
   "metadata": {},
   "source": [
    "## Usage Metrics and Costs"
   ]
  },
  {
   "cell_type": "markdown",
   "id": "ea0216d0-7cc6-4593-9353-f12aac5eb04e",
   "metadata": {},
   "source": [
    "Let’s see how much it would cost each time if this crew runs at scale."
   ]
  },
  {
   "cell_type": "code",
   "execution_count": 22,
   "id": "5cd2ad40-12a3-401f-ad32-6bd54a099734",
   "metadata": {
    "height": 200
   },
   "outputs": [
    {
     "name": "stdout",
     "output_type": "stream",
     "text": [
      "Total costs: $0.0103\n"
     ]
    },
    {
     "data": {
      "text/html": [
       "<div>\n",
       "<style scoped>\n",
       "    .dataframe tbody tr th:only-of-type {\n",
       "        vertical-align: middle;\n",
       "    }\n",
       "\n",
       "    .dataframe tbody tr th {\n",
       "        vertical-align: top;\n",
       "    }\n",
       "\n",
       "    .dataframe thead th {\n",
       "        text-align: right;\n",
       "    }\n",
       "</style>\n",
       "<table border=\"1\" class=\"dataframe\">\n",
       "  <thead>\n",
       "    <tr style=\"text-align: right;\">\n",
       "      <th></th>\n",
       "      <th>total_tokens</th>\n",
       "      <th>prompt_tokens</th>\n",
       "      <th>completion_tokens</th>\n",
       "      <th>successful_requests</th>\n",
       "    </tr>\n",
       "  </thead>\n",
       "  <tbody>\n",
       "    <tr>\n",
       "      <th>0</th>\n",
       "      <td>68807</td>\n",
       "      <td>63280</td>\n",
       "      <td>5527</td>\n",
       "      <td>33</td>\n",
       "    </tr>\n",
       "  </tbody>\n",
       "</table>\n",
       "</div>"
      ],
      "text/plain": [
       "   total_tokens  prompt_tokens  completion_tokens  successful_requests\n",
       "0         68807          63280               5527                   33"
      ]
     },
     "execution_count": 22,
     "metadata": {},
     "output_type": "execute_result"
    }
   ],
   "source": [
    "import pandas as pd\n",
    "\n",
    "# Convert UsageMetrics instance to a DataFrame\n",
    "df_usage_metrics = pd.DataFrame([flow.state[\"score_crews_results\"][0].token_usage.dict()])\n",
    "\n",
    "# Calculate total costs\n",
    "costs = 0.150 * df_usage_metrics['total_tokens'].sum() / 1_000_000\n",
    "print(f\"Total costs: ${costs:.4f}\")\n",
    "\n",
    "# Display the DataFrame\n",
    "df_usage_metrics"
   ]
  },
  {
   "cell_type": "code",
   "execution_count": 23,
   "id": "fae27085-f186-40d2-84d8-3aad6ee8a322",
   "metadata": {
    "height": 200
   },
   "outputs": [
    {
     "name": "stdout",
     "output_type": "stream",
     "text": [
      "Total costs: $0.0003\n"
     ]
    },
    {
     "data": {
      "text/html": [
       "<div>\n",
       "<style scoped>\n",
       "    .dataframe tbody tr th:only-of-type {\n",
       "        vertical-align: middle;\n",
       "    }\n",
       "\n",
       "    .dataframe tbody tr th {\n",
       "        vertical-align: top;\n",
       "    }\n",
       "\n",
       "    .dataframe thead th {\n",
       "        text-align: right;\n",
       "    }\n",
       "</style>\n",
       "<table border=\"1\" class=\"dataframe\">\n",
       "  <thead>\n",
       "    <tr style=\"text-align: right;\">\n",
       "      <th></th>\n",
       "      <th>total_tokens</th>\n",
       "      <th>prompt_tokens</th>\n",
       "      <th>completion_tokens</th>\n",
       "      <th>successful_requests</th>\n",
       "    </tr>\n",
       "  </thead>\n",
       "  <tbody>\n",
       "    <tr>\n",
       "      <th>0</th>\n",
       "      <td>1811</td>\n",
       "      <td>1417</td>\n",
       "      <td>394</td>\n",
       "      <td>3</td>\n",
       "    </tr>\n",
       "  </tbody>\n",
       "</table>\n",
       "</div>"
      ],
      "text/plain": [
       "   total_tokens  prompt_tokens  completion_tokens  successful_requests\n",
       "0          1811           1417                394                    3"
      ]
     },
     "execution_count": 23,
     "metadata": {},
     "output_type": "execute_result"
    }
   ],
   "source": [
    "import pandas as pd\n",
    "\n",
    "# Convert UsageMetrics instance to a DataFrame\n",
    "df_usage_metrics = pd.DataFrame([emails[0].token_usage.dict()])\n",
    "\n",
    "# Calculate total costs\n",
    "costs = 0.150 * df_usage_metrics['total_tokens'].sum() / 1_000_000\n",
    "print(f\"Total costs: ${costs:.4f}\")\n",
    "\n",
    "# Display the DataFrame\n",
    "df_usage_metrics"
   ]
  },
  {
   "cell_type": "markdown",
   "id": "791302ad-20f0-45ab-bd0a-3edd6977a639",
   "metadata": {},
   "source": [
    "## Inspecting Results"
   ]
  },
  {
   "cell_type": "code",
   "execution_count": 24,
   "id": "d10efceb-e3fd-4324-9337-879be159f093",
   "metadata": {
    "height": 30
   },
   "outputs": [],
   "source": [
    "scores = flow.state[\"score_crews_results\"]"
   ]
  },
  {
   "cell_type": "code",
   "execution_count": 25,
   "id": "7860c745-0c7e-4edd-bf8b-75beb14f64bd",
   "metadata": {
    "height": 659
   },
   "outputs": [
    {
     "data": {
      "text/html": [
       "<style type=\"text/css\">\n",
       "#T_35306_row0_col0, #T_35306_row0_col1, #T_35306_row1_col0, #T_35306_row1_col1, #T_35306_row2_col0, #T_35306_row2_col1, #T_35306_row3_col0, #T_35306_row3_col1, #T_35306_row4_col0, #T_35306_row4_col1, #T_35306_row5_col0, #T_35306_row5_col1, #T_35306_row6_col0, #T_35306_row6_col1, #T_35306_row7_col0, #T_35306_row7_col1, #T_35306_row8_col0, #T_35306_row8_col1, #T_35306_row9_col0, #T_35306_row9_col1, #T_35306_row10_col0, #T_35306_row10_col1, #T_35306_row11_col0, #T_35306_row11_col1 {\n",
       "  text-align: left;\n",
       "}\n",
       "</style>\n",
       "<table id=\"T_35306\">\n",
       "  <thead>\n",
       "    <tr>\n",
       "      <th id=\"T_35306_level0_col0\" class=\"col_heading level0 col0\" >Attribute</th>\n",
       "      <th id=\"T_35306_level0_col1\" class=\"col_heading level0 col1\" >Value</th>\n",
       "    </tr>\n",
       "  </thead>\n",
       "  <tbody>\n",
       "    <tr>\n",
       "      <td id=\"T_35306_row0_col0\" class=\"data row0 col0\" ><b>Name</b></td>\n",
       "      <td id=\"T_35306_row0_col1\" class=\"data row0 col1\" >[Lead Name]</td>\n",
       "    </tr>\n",
       "    <tr>\n",
       "      <td id=\"T_35306_row1_col0\" class=\"data row1 col0\" ><b>Job Title</b></td>\n",
       "      <td id=\"T_35306_row1_col1\" class=\"data row1 col1\" >Director of Engineering</td>\n",
       "    </tr>\n",
       "    <tr>\n",
       "      <td id=\"T_35306_row2_col0\" class=\"data row2 col0\" ><b>Role Relevance</b></td>\n",
       "      <td id=\"T_35306_row2_col1\" class=\"data row2 col1\" >10</td>\n",
       "    </tr>\n",
       "    <tr>\n",
       "      <td id=\"T_35306_row3_col0\" class=\"data row3 col0\" ><b>Professional Background</b></td>\n",
       "      <td id=\"T_35306_row3_col1\" class=\"data row3 col1\" >None</td>\n",
       "    </tr>\n",
       "    <tr>\n",
       "      <td id=\"T_35306_row4_col0\" class=\"data row4 col0\" ><b>Company Name</b></td>\n",
       "      <td id=\"T_35306_row4_col1\" class=\"data row4 col1\" >[Company Name]</td>\n",
       "    </tr>\n",
       "    <tr>\n",
       "      <td id=\"T_35306_row5_col0\" class=\"data row5 col0\" ><b>Industry</b></td>\n",
       "      <td id=\"T_35306_row5_col1\" class=\"data row5 col1\" >AI automation</td>\n",
       "    </tr>\n",
       "    <tr>\n",
       "      <td id=\"T_35306_row6_col0\" class=\"data row6 col0\" ><b>Company Size</b></td>\n",
       "      <td id=\"T_35306_row6_col1\" class=\"data row6 col1\" >100</td>\n",
       "    </tr>\n",
       "    <tr>\n",
       "      <td id=\"T_35306_row7_col0\" class=\"data row7 col0\" ><b>Revenue</b></td>\n",
       "      <td id=\"T_35306_row7_col1\" class=\"data row7 col1\" >None</td>\n",
       "    </tr>\n",
       "    <tr>\n",
       "      <td id=\"T_35306_row8_col0\" class=\"data row8 col0\" ><b>Market Presence</b></td>\n",
       "      <td id=\"T_35306_row8_col1\" class=\"data row8 col1\" >10</td>\n",
       "    </tr>\n",
       "    <tr>\n",
       "      <td id=\"T_35306_row9_col0\" class=\"data row9 col0\" ><b>Lead Score</b></td>\n",
       "      <td id=\"T_35306_row9_col1\" class=\"data row9 col1\" >90</td>\n",
       "    </tr>\n",
       "    <tr>\n",
       "      <td id=\"T_35306_row10_col0\" class=\"data row10 col0\" ><b>Scoring Criteria</b></td>\n",
       "      <td id=\"T_35306_row10_col1\" class=\"data row10 col1\" >Role Relevance: 10 points (Director of Engineering), Company Size: 15 points (51-200 employees), Market Presence: 10 points (Acquired by HubSpot), Cultural Fit: 20 points (Alignment with AI automation focus)</td>\n",
       "    </tr>\n",
       "    <tr>\n",
       "      <td id=\"T_35306_row11_col0\" class=\"data row11 col0\" ><b>Validation Notes</b></td>\n",
       "      <td id=\"T_35306_row11_col1\" class=\"data row11 col1\" >All data collected is accurate and consistent, suggesting a strong lead quality for potential engagement by CrewAI.</td>\n",
       "    </tr>\n",
       "  </tbody>\n",
       "</table>\n"
      ],
      "text/plain": [
       "<IPython.core.display.HTML object>"
      ]
     },
     "metadata": {},
     "output_type": "display_data"
    }
   ],
   "source": [
    "import pandas as pd\n",
    "from IPython.display import display, HTML\n",
    "\n",
    "lead_scoring_result = scores[0].pydantic\n",
    "\n",
    "# Create a dictionary with the nested structure flattened\n",
    "data = {\n",
    "    'Name': lead_scoring_result.personal_info.name,\n",
    "    'Job Title': lead_scoring_result.personal_info.job_title,\n",
    "    'Role Relevance': lead_scoring_result.personal_info.role_relevance,\n",
    "    'Professional Background': lead_scoring_result.personal_info.professional_background,\n",
    "    'Company Name': lead_scoring_result.company_info.company_name,\n",
    "    'Industry': lead_scoring_result.company_info.industry,\n",
    "    'Company Size': lead_scoring_result.company_info.company_size,\n",
    "    'Revenue': lead_scoring_result.company_info.revenue,\n",
    "    'Market Presence': lead_scoring_result.company_info.market_presence,\n",
    "    'Lead Score': lead_scoring_result.lead_score.score,\n",
    "    'Scoring Criteria': ', '.join(lead_scoring_result.lead_score.scoring_criteria),\n",
    "    'Validation Notes': lead_scoring_result.lead_score.validation_notes\n",
    "}\n",
    "\n",
    "# Convert the dictionary to a DataFrame\n",
    "df = pd.DataFrame.from_dict(data, orient='index', columns=['Value'])\n",
    "\n",
    "# Reset the index to turn the original column names into a regular column\n",
    "df = df.reset_index()\n",
    "\n",
    "# Rename the index column to 'Attribute'\n",
    "df = df.rename(columns={'index': 'Attribute'})\n",
    "\n",
    "# Create HTML table with bold attributes and left-aligned values\n",
    "html_table = df.style.set_properties(**{'text-align': 'left'}) \\\n",
    "                     .format({'Attribute': lambda x: f'<b>{x}</b>'}) \\\n",
    "                     .hide(axis='index') \\\n",
    "                     .to_html()\n",
    "\n",
    "# Display the styled HTML table\n",
    "display(HTML(html_table))"
   ]
  },
  {
   "cell_type": "markdown",
   "id": "729b2336-f71d-4760-b70e-6d831cd9fbd8",
   "metadata": {},
   "source": [
    "## Results"
   ]
  },
  {
   "cell_type": "code",
   "execution_count": 26,
   "id": "8c221ae1-6310-472b-aaeb-c046a5d1a08c",
   "metadata": {
    "height": 98
   },
   "outputs": [
    {
     "name": "stdout",
     "output_type": "stream",
     "text": [
      "[Lead Name], with your recent acquisition by HubSpot, now is the perfect time to\n",
      "elevate your AI automation game. CrewAI's Multi-Agent Orchestration Platform is\n",
      "designed for enterprise companies like [Company Name] to streamline your\n",
      "operations and orchestrate AI agents across various verticals.   Imagine how our\n",
      "solution can enhance your team's productivity and drive measurable outcomes.\n",
      "Schedule a demo today to see firsthand how CrewAI can align with [Company\n",
      "Name]'s objectives. Click here to book a time that suits you: [Insert Scheduling\n",
      "Link].   Don't miss out on optimizing your automation strategies for immediate\n",
      "results - your team's transformation starts now!\n"
     ]
    }
   ],
   "source": [
    "import textwrap\n",
    "\n",
    "result_text = emails[0].raw\n",
    "wrapped_text = textwrap.fill(result_text, width=80)\n",
    "print(wrapped_text)"
   ]
  },
  {
   "cell_type": "markdown",
   "id": "8de1e303-6b10-4010-af59-54afa6a55f59",
   "metadata": {},
   "source": [
    "## How Complex Can it Get?"
   ]
  },
  {
   "cell_type": "code",
   "execution_count": 27,
   "id": "a39a9216-103f-4a55-81ed-95a0ad41c73c",
   "metadata": {
    "height": 1186
   },
   "outputs": [],
   "source": [
    "from crewai import Flow\n",
    "from crewai.flow.flow import listen, start, and_, or_, router\n",
    "\n",
    "class SalesPipeline(Flow):\n",
    "    \n",
    "  @start()\n",
    "  def fetch_leads(self):\n",
    "    # Pull our leads from the database\n",
    "    # This is a mock, in a real-world scenario, this is where you would\n",
    "    # fetch leads from a database\n",
    "    leads = [\n",
    "      {\n",
    "        \"lead_data\": {\n",
    "          \"name\": \"João Moura\",\n",
    "          \"job_title\": \"Director of Engineering\",\n",
    "          \"company\": \"Clearbit\",\n",
    "          \"email\": \"joao@clearbit.com\",\n",
    "          \"use_case\": \"Using AI Agent to do better data enrichment.\"\n",
    "        },\n",
    "      },\n",
    "    ]\n",
    "    return leads\n",
    "\n",
    "  @listen(fetch_leads)\n",
    "  def score_leads(self, leads):\n",
    "    scores = lead_scoring_crew.kickoff_for_each(leads)\n",
    "    self.state[\"score_crews_results\"] = scores\n",
    "    return scores\n",
    "\n",
    "  @listen(score_leads)\n",
    "  def store_leads_score(self, scores):\n",
    "    # Here we would store the scores in the database\n",
    "    return scores\n",
    "\n",
    "  @listen(score_leads)\n",
    "  def filter_leads(self, scores):\n",
    "    return [score for score in scores if score['lead_score'].score > 70]\n",
    "\n",
    "  @listen(and_(filter_leads, store_leads_score))\n",
    "  def log_leads(self, leads):\n",
    "    print(f\"Leads: {leads}\")\n",
    "\n",
    "  @router(filter_leads, paths=[\"high\", \"medium\", \"low\"])\n",
    "  def count_leads(self, scores):\n",
    "    if len(scores) > 10:\n",
    "      return 'high'\n",
    "    elif len(scores) > 5:\n",
    "      return 'medium'\n",
    "    else:\n",
    "      return 'low'\n",
    "\n",
    "  @listen('high')\n",
    "  def store_in_salesforce(self, leads):\n",
    "    return leads\n",
    "\n",
    "  @listen('medium')\n",
    "  def send_to_sales_team(self, leads):\n",
    "    return leads\n",
    "\n",
    "  @listen('low')\n",
    "  def write_email(self, leads):\n",
    "    scored_leads = [lead.to_dict() for lead in leads]\n",
    "    emails = email_writing_crew.kickoff_for_each(scored_leads)\n",
    "    return emails\n",
    "\n",
    "  @listen(write_email)\n",
    "  def send_email(self, emails):\n",
    "    # Here we would send the emails to the leads\n",
    "    return emails"
   ]
  },
  {
   "cell_type": "markdown",
   "id": "e900385f-10be-4f4b-aaa9-f1408b8b4be6",
   "metadata": {},
   "source": [
    "## Plotting the Flow"
   ]
  },
  {
   "cell_type": "code",
   "execution_count": 28,
   "id": "eecf2beb-818a-4db5-8338-280beac670b9",
   "metadata": {
    "height": 47
   },
   "outputs": [
    {
     "name": "stdout",
     "output_type": "stream",
     "text": [
      "Graph saved as crewai_flow_graph.html\n"
     ]
    }
   ],
   "source": [
    "flow = SalesPipeline()\n",
    "flow.plot()"
   ]
  },
  {
   "cell_type": "code",
   "execution_count": 29,
   "id": "41d8a4df-a0cc-4aa5-a5cf-390792c7cec6",
   "metadata": {
    "height": 64
   },
   "outputs": [
    {
     "data": {
      "text/html": [
       "\n",
       "        <iframe\n",
       "            width=\"150%\"\n",
       "            height=\"600\"\n",
       "            src=\"./crewai_flow_complex.html\"\n",
       "            frameborder=\"0\"\n",
       "            allowfullscreen\n",
       "            \n",
       "        ></iframe>\n",
       "        "
      ],
      "text/plain": [
       "<IPython.lib.display.IFrame at 0x7f31cc17cf50>"
      ]
     },
     "execution_count": 29,
     "metadata": {},
     "output_type": "execute_result"
    }
   ],
   "source": [
    "from IPython.display import IFrame\n",
    "\n",
    "IFrame(src='./crewai_flow_complex.html', width='150%', height=600)"
   ]
  },
  {
   "cell_type": "code",
   "execution_count": null,
   "id": "9eed7080-4865-473c-8b1e-93be4a05606a",
   "metadata": {
    "height": 30
   },
   "outputs": [],
   "source": []
  },
  {
   "cell_type": "code",
   "execution_count": null,
   "id": "e922d823-f10d-49bb-b4da-8c6db459127a",
   "metadata": {
    "height": 30
   },
   "outputs": [],
   "source": []
  },
  {
   "cell_type": "code",
   "execution_count": null,
   "id": "f4565b50-2a62-4abd-929d-5b03d5aa5dcf",
   "metadata": {
    "height": 30
   },
   "outputs": [],
   "source": []
  },
  {
   "cell_type": "code",
   "execution_count": null,
   "id": "0ec9be22-37f3-4558-b3c3-8057d397e368",
   "metadata": {
    "height": 30
   },
   "outputs": [],
   "source": []
  },
  {
   "cell_type": "code",
   "execution_count": null,
   "id": "f4a04fe2-0022-4928-957c-891d0ba4d094",
   "metadata": {
    "height": 30
   },
   "outputs": [],
   "source": []
  },
  {
   "cell_type": "code",
   "execution_count": null,
   "id": "18389a54-953e-450e-a033-59ad5029b434",
   "metadata": {
    "height": 30
   },
   "outputs": [],
   "source": []
  }
 ],
 "metadata": {
  "kernelspec": {
   "display_name": "Python 3 (ipykernel)",
   "language": "python",
   "name": "python3"
  },
  "language_info": {
   "codemirror_mode": {
    "name": "ipython",
    "version": 3
   },
   "file_extension": ".py",
   "mimetype": "text/x-python",
   "name": "python",
   "nbconvert_exporter": "python",
   "pygments_lexer": "ipython3",
   "version": "3.11.9"
  }
 },
 "nbformat": 4,
 "nbformat_minor": 5
}
