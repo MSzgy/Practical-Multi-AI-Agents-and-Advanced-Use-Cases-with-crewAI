{
 "cells": [
  {
   "cell_type": "markdown",
   "id": "bae53a09-c04c-4916-a146-00e0bb188954",
   "metadata": {},
   "source": [
    "# L1: Automated Project: Planning, Estimation, and Allocation"
   ]
  },
  {
   "cell_type": "markdown",
   "id": "2a4058e8-a52c-4365-ac27-da08b67d7fb8",
   "metadata": {},
   "source": [
    "<p style=\"background-color:#fff6e4; padding:15px; border-width:3px; border-color:#f5ecda; border-style:solid; border-radius:6px\"> ⏳ <b>Note <code>(Kernel Starting)</code>:</b> This notebook takes about 30 seconds to be ready to use. You may start and watch the video while you wait.</p>"
   ]
  },
  {
   "cell_type": "markdown",
   "id": "30ada5b1-06ec-41e8-8f60-5e0e0d389ffb",
   "metadata": {},
   "source": [
    "## Initial Imports"
   ]
  },
  {
   "cell_type": "code",
   "execution_count": 12,
   "id": "4193708e-9802-4161-844a-735f6361e24d",
   "metadata": {
    "height": 200
   },
   "outputs": [],
   "source": [
    "# Warning control\n",
    "import warnings\n",
    "warnings.filterwarnings('ignore')\n",
    "\n",
    "# Load environment variables\n",
    "from helper import load_env\n",
    "load_env()\n",
    "\n",
    "import os\n",
    "import yaml\n",
    "from crewai import Agent, Task, Crew"
   ]
  },
  {
   "cell_type": "markdown",
   "id": "66752d49-82ae-4b58-b76b-fc57c6b5f23e",
   "metadata": {},
   "source": [
    "<p style=\"background-color:#fff6ff; padding:15px; border-width:3px; border-color:#efe6ef; border-style:solid; border-radius:6px\"> 💻 &nbsp; <b>Access <code>requirements.txt</code> and <code>helper.py</code> files:</b> 1) click on the <em>\"File\"</em> option on the top menu of the notebook and then 2) click on <em>\"Open\"</em>. For more help, please see the <em>\"Appendix - Tips and Help\"</em> Lesson.</p>"
   ]
  },
  {
   "cell_type": "markdown",
   "id": "b930b575-a2d5-467b-878f-de78e10b6ba5",
   "metadata": {},
   "source": [
    "## Set OpenAI Model"
   ]
  },
  {
   "cell_type": "code",
   "execution_count": 13,
   "id": "91cb8100-3058-4cdc-969b-c64a46a408e4",
   "metadata": {
    "height": 30
   },
   "outputs": [],
   "source": [
    "os.environ['OPENAI_MODEL_NAME'] = 'gpt-4o-mini'"
   ]
  },
  {
   "cell_type": "markdown",
   "id": "96b83836-9ccb-47d7-a97b-9a68aebfaa42",
   "metadata": {},
   "source": [
    "## Loading Tasks and Agents YAML files"
   ]
  },
  {
   "cell_type": "code",
   "execution_count": 14,
   "id": "5a4e362d-c010-43dd-88c4-e7db87834fb4",
   "metadata": {
    "height": 268
   },
   "outputs": [],
   "source": [
    "# Define file paths for YAML configurations\n",
    "files = {\n",
    "    'agents': 'config/agents.yaml',\n",
    "    'tasks': 'config/tasks.yaml'\n",
    "}\n",
    "\n",
    "# Load configurations from YAML files\n",
    "configs = {}\n",
    "for config_type, file_path in files.items():\n",
    "    with open(file_path, 'r') as file:\n",
    "        configs[config_type] = yaml.safe_load(file)\n",
    "\n",
    "# Assign loaded configurations to specific variables\n",
    "agents_config = configs['agents']\n",
    "tasks_config = configs['tasks']"
   ]
  },
  {
   "cell_type": "markdown",
   "id": "c5f50c89-a326-4e4c-93a1-79be3fcda14b",
   "metadata": {},
   "source": [
    "## Create Pydantic Models for Structured Output"
   ]
  },
  {
   "cell_type": "code",
   "execution_count": 15,
   "id": "0e8626d2-e48a-4b7e-a061-a8eb492c9036",
   "metadata": {
    "height": 268
   },
   "outputs": [],
   "source": [
    "from typing import List\n",
    "from pydantic import BaseModel, Field\n",
    "\n",
    "class TaskEstimate(BaseModel):\n",
    "    task_name: str = Field(..., description=\"Name of the task\")\n",
    "    estimated_time_hours: float = Field(..., description=\"Estimated time to complete the task in hours\")\n",
    "    required_resources: List[str] = Field(..., description=\"List of resources required to complete the task\")\n",
    "\n",
    "class Milestone(BaseModel):\n",
    "    milestone_name: str = Field(..., description=\"Name of the milestone\")\n",
    "    tasks: List[str] = Field(..., description=\"List of task IDs associated with this milestone\")\n",
    "\n",
    "class ProjectPlan(BaseModel):\n",
    "    tasks: List[TaskEstimate] = Field(..., description=\"List of tasks with their estimates\")\n",
    "    milestones: List[Milestone] = Field(..., description=\"List of project milestones\")"
   ]
  },
  {
   "cell_type": "markdown",
   "id": "92d6524c-48e7-460e-8345-3b7a872b714a",
   "metadata": {},
   "source": [
    "## Create Crew, Agents and Tasks"
   ]
  },
  {
   "cell_type": "code",
   "execution_count": 16,
   "id": "a655927f-c10c-4c06-852a-d9c96fdfbfb9",
   "metadata": {
    "height": 761
   },
   "outputs": [
    {
     "name": "stderr",
     "output_type": "stream",
     "text": [
      "2024-10-30 12:29:10,152 - 140349213395840 - __init__.py-__init__:538 - WARNING: Overriding of current TracerProvider is not allowed\n"
     ]
    }
   ],
   "source": [
    "# Creating Agents\n",
    "project_planning_agent = Agent(\n",
    "  config=agents_config['project_planning_agent']\n",
    ")\n",
    "\n",
    "estimation_agent = Agent(\n",
    "  config=agents_config['estimation_agent']\n",
    ")\n",
    "\n",
    "resource_allocation_agent = Agent(\n",
    "  config=agents_config['resource_allocation_agent']\n",
    ")\n",
    "\n",
    "# Creating Tasks\n",
    "task_breakdown = Task(\n",
    "  config=tasks_config['task_breakdown'],\n",
    "  agent=project_planning_agent\n",
    ")\n",
    "\n",
    "time_resource_estimation = Task(\n",
    "  config=tasks_config['time_resource_estimation'],\n",
    "  agent=estimation_agent\n",
    ")\n",
    "\n",
    "resource_allocation = Task(\n",
    "  config=tasks_config['resource_allocation'],\n",
    "  agent=resource_allocation_agent,\n",
    "  output_pydantic=ProjectPlan # This is the structured output we want\n",
    ")\n",
    "\n",
    "# Creating Crew\n",
    "crew = Crew(\n",
    "  agents=[\n",
    "    project_planning_agent,\n",
    "    estimation_agent,\n",
    "    resource_allocation_agent\n",
    "  ],\n",
    "  tasks=[\n",
    "    task_breakdown,\n",
    "    time_resource_estimation,\n",
    "    resource_allocation\n",
    "  ],\n",
    "  verbose=True\n",
    ")"
   ]
  },
  {
   "cell_type": "markdown",
   "id": "51b901cf-3630-4662-81a7-762da6773d3b",
   "metadata": {},
   "source": [
    "## Crew's Inputs"
   ]
  },
  {
   "cell_type": "code",
   "execution_count": 17,
   "id": "9e861574-0f9b-4f2c-b2d1-a230fc3a53a3",
   "metadata": {
    "height": 693
   },
   "outputs": [
    {
     "data": {
      "text/markdown": [
       "\n",
       "**Project Type:** Website\n",
       "\n",
       "**Project Objectives:** Create a website for a small business\n",
       "\n",
       "**Industry:** Technology\n",
       "\n",
       "**Team Members:**\n",
       "\n",
       "- John Doe (Project Manager)\n",
       "- Jane Doe (Software Engineer)\n",
       "- Bob Smith (Designer)\n",
       "- Alice Johnson (QA Engineer)\n",
       "- Tom Brown (QA Engineer)\n",
       "\n",
       "**Project Requirements:**\n",
       "\n",
       "- Create a responsive design that works well on desktop and mobile devices\n",
       "- Implement a modern, visually appealing user interface with a clean look\n",
       "- Develop a user-friendly navigation system with intuitive menu structure\n",
       "- Include an \"About Us\" page highlighting the company's history and values\n",
       "- Design a \"Services\" page showcasing the business's offerings with descriptions\n",
       "- Create a \"Contact Us\" page with a form and integrated map for communication\n",
       "- Implement a blog section for sharing industry news and company updates\n",
       "- Ensure fast loading times and optimize for search engines (SEO)\n",
       "- Integrate social media links and sharing capabilities\n",
       "- Include a testimonials section to showcase customer feedback and build trust\n",
       "\n"
      ],
      "text/plain": [
       "<IPython.core.display.Markdown object>"
      ]
     },
     "metadata": {},
     "output_type": "display_data"
    }
   ],
   "source": [
    "from IPython.display import display, Markdown\n",
    "\n",
    "project = 'Website'\n",
    "industry = 'Technology'\n",
    "project_objectives = 'Create a website for a small business'\n",
    "team_members = \"\"\"\n",
    "- John Doe (Project Manager)\n",
    "- Jane Doe (Software Engineer)\n",
    "- Bob Smith (Designer)\n",
    "- Alice Johnson (QA Engineer)\n",
    "- Tom Brown (QA Engineer)\n",
    "\"\"\"\n",
    "project_requirements = \"\"\"\n",
    "- Create a responsive design that works well on desktop and mobile devices\n",
    "- Implement a modern, visually appealing user interface with a clean look\n",
    "- Develop a user-friendly navigation system with intuitive menu structure\n",
    "- Include an \"About Us\" page highlighting the company's history and values\n",
    "- Design a \"Services\" page showcasing the business's offerings with descriptions\n",
    "- Create a \"Contact Us\" page with a form and integrated map for communication\n",
    "- Implement a blog section for sharing industry news and company updates\n",
    "- Ensure fast loading times and optimize for search engines (SEO)\n",
    "- Integrate social media links and sharing capabilities\n",
    "- Include a testimonials section to showcase customer feedback and build trust\n",
    "\"\"\"\n",
    "\n",
    "# Format the dictionary as Markdown for a better display in Jupyter Lab\n",
    "formatted_output = f\"\"\"\n",
    "**Project Type:** {project}\n",
    "\n",
    "**Project Objectives:** {project_objectives}\n",
    "\n",
    "**Industry:** {industry}\n",
    "\n",
    "**Team Members:**\n",
    "{team_members}\n",
    "**Project Requirements:**\n",
    "{project_requirements}\n",
    "\"\"\"\n",
    "# Display the formatted output as Markdown\n",
    "display(Markdown(formatted_output))"
   ]
  },
  {
   "cell_type": "markdown",
   "id": "15198e13-e9ec-44d8-b15e-c97b7b7320bb",
   "metadata": {},
   "source": [
    "## Kicking off the crew"
   ]
  },
  {
   "cell_type": "code",
   "execution_count": 18,
   "id": "fa40b53e-0a49-4198-a263-c79a6a3af603",
   "metadata": {
    "height": 234
   },
   "outputs": [
    {
     "name": "stdout",
     "output_type": "stream",
     "text": [
      "\u001b[1m\u001b[95m# Agent:\u001b[00m \u001b[1m\u001b[92mThe Ultimate Project Planner\u001b[00m\n",
      "\u001b[95m## Task:\u001b[00m \u001b[92mCarefully analyze the project_requirements for the Website project and break them down into individual tasks. Define each task's scope in detail, set achievable timelines, and ensure that all dependencies are accounted for:\n",
      "\n",
      "- Create a responsive design that works well on desktop and mobile devices\n",
      "- Implement a modern, visually appealing user interface with a clean look\n",
      "- Develop a user-friendly navigation system with intuitive menu structure\n",
      "- Include an \"About Us\" page highlighting the company's history and values\n",
      "- Design a \"Services\" page showcasing the business's offerings with descriptions\n",
      "- Create a \"Contact Us\" page with a form and integrated map for communication\n",
      "- Implement a blog section for sharing industry news and company updates\n",
      "- Ensure fast loading times and optimize for search engines (SEO)\n",
      "- Integrate social media links and sharing capabilities\n",
      "- Include a testimonials section to showcase customer feedback and build trust\n",
      "\n",
      "\n",
      "Team members:\n",
      "\n",
      "- John Doe (Project Manager)\n",
      "- Jane Doe (Software Engineer)\n",
      "- Bob Smith (Designer)\n",
      "- Alice Johnson (QA Engineer)\n",
      "- Tom Brown (QA Engineer)\n",
      "\n",
      "\u001b[00m\n",
      "\n",
      "\n",
      "\u001b[1m\u001b[95m# Agent:\u001b[00m \u001b[1m\u001b[92mThe Ultimate Project Planner\u001b[00m\n",
      "\u001b[95m## Final Answer:\u001b[00m \u001b[92m\n",
      "### Comprehensive Breakdown of Website Project Tasks\n",
      "\n",
      "#### Project Requirements Overview:\n",
      "The objective is to create a responsive, modern, and informative website for a small business, including essential features, pages, and functionalities that enhance user experience and engagement.\n",
      "\n",
      "#### Detailed Task List:\n",
      "\n",
      "1. **Create a Responsive Design**\n",
      "   - **Description:** Develop a design that adapts seamlessly to various screen sizes for both desktop and mobile.\n",
      "   - **Timeline:** 2 weeks (From Day 1 to Day 14)\n",
      "   - **Dependencies:** None\n",
      "   - **Deliverables:** Wireframes for desktop and mobile layouts.\n",
      "\n",
      "2. **Implement a Modern User Interface**\n",
      "   - **Description:** Create a visually appealing UI with a clean aesthetic—focus on color schemes, fonts, and layout.\n",
      "   - **Timeline:** 1 week (From Day 15 to Day 21)\n",
      "   - **Dependencies:** Completion of the responsive design task.\n",
      "   - **Deliverables:** Finalized UI mockups.\n",
      "\n",
      "3. **Develop a User-Friendly Navigation System**\n",
      "   - **Description:** Create an intuitive menu structure that allows users to easily find information on the website.\n",
      "   - **Timeline:** 1 week (From Day 22 to Day 28)\n",
      "   - **Dependencies:** Completion of the UI task.\n",
      "   - **Deliverables:** Navigation map and implementation plan.\n",
      "\n",
      "4. **Include an \"About Us\" Page**\n",
      "   - **Description:** Design a page that outlines the company’s history and values, including text and imagery.\n",
      "   - **Timeline:** 1 week (From Day 29 to Day 35)\n",
      "   - **Dependencies:** Completion of UI and navigation tasks.\n",
      "   - **Deliverables:** Complete text content and design mockup for the page.\n",
      "\n",
      "5. **Design a \"Services\" Page**\n",
      "   - **Description:** Showcase the business's offerings with detailed descriptions and visuals.\n",
      "   - **Timeline:** 1 week (From Day 36 to Day 42)\n",
      "   - **Dependencies:** Completion of the About Us page.\n",
      "   - **Deliverables:** Page layout and content.\n",
      "\n",
      "6. **Create a \"Contact Us\" Page**\n",
      "   - **Description:** Develop a page including a contact form and an integrated map for customer communication.\n",
      "   - **Timeline:** 1 week (From Day 43 to Day 49)\n",
      "   - **Dependencies:** Complete Services page.\n",
      "   - **Deliverables:** Functional contact form and map integration.\n",
      "\n",
      "7. **Implement a Blog Section**\n",
      "   - **Description:** Set up a blog system for posting industry news and updates, including categorization.\n",
      "   - **Timeline:** 1.5 weeks (From Day 50 to Day 62)\n",
      "   - **Dependencies:** Completion of the Contact Us page.\n",
      "   - **Deliverables:** Blog setup with first posts.\n",
      "\n",
      "8. **Ensure SEO Optimization and Fast Loading Times**\n",
      "   - **Description:** Implement best practices for SEO and website optimization to ensure fast load times.\n",
      "   - **Timeline:** 1 week (From Day 63 to Day 69)\n",
      "   - **Dependencies:** Completion of all content pages.\n",
      "   - **Deliverables:** SEO and performance report.\n",
      "\n",
      "9. **Integrate Social Media Links and Sharing Capabilities**\n",
      "   - **Description:** Add social media buttons and sharing options for blog posts/pages.\n",
      "   - **Timeline:** 1 week (From Day 70 to Day 76)\n",
      "   - **Dependencies:** SEO optimization completion.\n",
      "   - **Deliverables:** Integrated social media features.\n",
      "\n",
      "10. **Include a Testimonials Section**\n",
      "    - **Description:** Design and implement a section dedicated to customer testimonials to enhance credibility.\n",
      "    - **Timeline:** 1 week (From Day 77 to Day 83)\n",
      "    - **Dependencies:** Completion of Services, Contact, and Blog sections.\n",
      "    - **Deliverables:** Testimonials design and content.\n",
      "\n",
      "#### Overall Project Timeline (Gantt Chart)\n",
      "\n",
      "```plaintext\n",
      "| Task                         | Duration      | Start Date  | End Date    | Dependencies           |\n",
      "|------------------------------|---------------|-------------|-------------|------------------------|\n",
      "| Create a Responsive Design    | 2 weeks       | Day 1      | Day 14      | None                   |\n",
      "| Implement Modern UI           | 1 week        | Day 15     | Day 21      | Responsive Design       |\n",
      "| User-Friendly Navigation      | 1 week        | Day 22     | Day 28      | Modern UI              |\n",
      "| About Us Page                 | 1 week        | Day 29     | Day 35      | Navigation             |\n",
      "| Services Page                 | 1 week        | Day 36     | Day 42      | About Us Page          |\n",
      "| Contact Us Page               | 1 week        | Day 43     | Day 49      | Services Page          |\n",
      "| Blog Section                  | 1.5 weeks     | Day 50     | Day 62      | Contact Us Page        |\n",
      "| SEO Optimization              | 1 week        | Day 63     | Day 69      | All content pages      |\n",
      "| Social Media Integration      | 1 week        | Day 70     | Day 76      | SEO Optimization       |\n",
      "| Testimonials Section          | 1 week        | Day 77     | Day 83      | Services & Blog        |\n",
      "```\n",
      "\n",
      "### Team Responsibilities:\n",
      "- **John Doe (Project Manager)** - Oversee the project, timeline, and task assignments.\n",
      "- **Jane Doe (Software Engineer)** - Implement technical aspects, functionalities, and optimizations.\n",
      "- **Bob Smith (Designer)** - Design user interface, responsive layouts, and graphic content.\n",
      "- **Alice Johnson & Tom Brown (QA Engineers)** - Test each phase for functionality, usability, and performance.\n",
      "\n",
      "This project plan ensures that all tasks are covered in detail, with explicit timelines and dependencies, leading to the successful completion of the website that meets the client’s needs for their small business.\u001b[00m\n",
      "\n",
      "\n",
      "\u001b[1m\u001b[95m# Agent:\u001b[00m \u001b[1m\u001b[92mExpert Estimation Analyst\u001b[00m\n",
      "\u001b[95m## Task:\u001b[00m \u001b[92mThoroughly evaluate each task in the Website project to estimate the time, resources, and effort required. Use historical data, task complexity, and available resources to provide a realistic estimation for each task.\n",
      "\u001b[00m\n",
      "\n",
      "\n",
      "\u001b[1m\u001b[95m# Agent:\u001b[00m \u001b[1m\u001b[92mExpert Estimation Analyst\u001b[00m\n",
      "\u001b[95m## Final Answer:\u001b[00m \u001b[92m\n",
      "### Detailed Estimation Report for Website Project\n",
      "\n",
      "#### Task Evaluations and Resource Estimation:\n",
      "\n",
      "---\n",
      "\n",
      "1. **Create a Responsive Design**\n",
      "   - **Description:** Develop a design that adapts seamlessly to various screen sizes for both desktop and mobile.\n",
      "   - **Estimated Time:** 2 weeks\n",
      "   - **Resources Required:** \n",
      "     - Designer: 1 (Bob Smith)\n",
      "     - Tools: Design software (e.g., Adobe XD or Figma)\n",
      "   - **Effort:** 80 hours\n",
      "   - **Deliverables:** Wireframes for desktop and mobile layouts.\n",
      "   - **Risks/Uncertainties:** Potential changes in client preferences may cause redesigns.\n",
      "\n",
      "---\n",
      "\n",
      "2. **Implement a Modern User Interface**\n",
      "   - **Description:** Create a visually appealing UI with a clean aesthetic—focus on color schemes, fonts, and layout.\n",
      "   - **Estimated Time:** 1 week\n",
      "   - **Resources Required:** \n",
      "     - Designer: 1 (Bob Smith)\n",
      "     - Developer: 1 (Jane Doe)\n",
      "   - **Effort:** 40 hours\n",
      "   - **Deliverables:** Finalized UI mockups.\n",
      "   - **Risks/Uncertainties:** Late feedback could impact timelines.\n",
      "\n",
      "---\n",
      "\n",
      "3. **Develop a User-Friendly Navigation System**\n",
      "   - **Description:** Create an intuitive menu structure that allows users to easily find information on the website.\n",
      "   - **Estimated Time:** 1 week\n",
      "   - **Resources Required:** \n",
      "     - Developer: 1 (Jane Doe)\n",
      "   - **Effort:** 40 hours\n",
      "   - **Deliverables:** Navigation map and implementation plan.\n",
      "   - **Risks/Uncertainties:** Complex user requirements may necessitate revisions.\n",
      "\n",
      "---\n",
      "\n",
      "4. **Include an \"About Us\" Page**\n",
      "   - **Description:** Design a page that outlines the company’s history and values, including text and imagery.\n",
      "   - **Estimated Time:** 1 week\n",
      "   - **Resources Required:** \n",
      "     - Content Writer: 1 (Internal resource or freelancer)\n",
      "     - Designer: 1 (Bob Smith)\n",
      "   - **Effort:** 40 hours\n",
      "   - **Deliverables:** Complete text content and design mockup for the page.\n",
      "   - **Risks/Uncertainties:** Delays in content creation could push the timeline.\n",
      "\n",
      "---\n",
      "\n",
      "5. **Design a \"Services\" Page**\n",
      "   - **Description:** Showcase the business's offerings with detailed descriptions and visuals.\n",
      "   - **Estimated Time:** 1 week\n",
      "   - **Resources Required:** \n",
      "     - Content Writer: 1 (Internal resource or freelancer)\n",
      "     - Designer: 1 (Bob Smith)\n",
      "   - **Effort:** 40 hours\n",
      "   - **Deliverables:** Page layout and content.\n",
      "   - **Risks/Uncertainties:** Same risks as the About Us page concerning content generation.\n",
      "\n",
      "---\n",
      "\n",
      "6. **Create a \"Contact Us\" Page**\n",
      "   - **Description:** Develop a page including a contact form and an integrated map for customer communication.\n",
      "   - **Estimated Time:** 1 week\n",
      "   - **Resources Required:** \n",
      "     - Developer: 1 (Jane Doe)\n",
      "   - **Effort:** 40 hours\n",
      "   - **Deliverables:** Functional contact form and map integration.\n",
      "   - **Risks/Uncertainties:** Technical difficulties with the map can cause delays.\n",
      "\n",
      "---\n",
      "\n",
      "7. **Implement a Blog Section**\n",
      "   - **Description:** Set up a blog system for posting industry news and updates, including categorization.\n",
      "   - **Estimated Time:** 1.5 weeks\n",
      "   - **Resources Required:** \n",
      "     - Developer: 1 (Jane Doe)\n",
      "     - Content Writer: 1 (Internal resource or freelancer)\n",
      "   - **Effort:** 60 hours\n",
      "   - **Deliverables:** Blog setup with first posts.\n",
      "   - **Risks/Uncertainties:** Ongoing content creation will require consistent writer availability.\n",
      "\n",
      "---\n",
      "\n",
      "8. **Ensure SEO Optimization and Fast Loading Times**\n",
      "   - **Description:** Implement best practices for SEO and website optimization to ensure fast load times.\n",
      "   - **Estimated Time:** 1 week\n",
      "   - **Resources Required:** \n",
      "     - Developer: 1 (Jane Doe)\n",
      "   - **Effort:** 40 hours\n",
      "   - **Deliverables:** SEO and performance report.\n",
      "   - **Risks/Uncertainties:** Changes in search engine algorithms may affect optimization results.\n",
      "\n",
      "---\n",
      "\n",
      "9. **Integrate Social Media Links and Sharing Capabilities**\n",
      "   - **Description:** Add social media buttons and sharing options for blog posts/pages.\n",
      "   - **Estimated Time:** 1 week\n",
      "   - **Resources Required:** \n",
      "     - Developer: 1 (Jane Doe)\n",
      "   - **Effort:** 40 hours\n",
      "   - **Deliverables:** Integrated social media features.\n",
      "   - **Risks/Uncertainties:** Integration issues with different social media APIs.\n",
      "\n",
      "---\n",
      "\n",
      "10. **Include a Testimonials Section**\n",
      "    - **Description:** Design and implement a section dedicated to customer testimonials to enhance credibility.\n",
      "    - **Estimated Time:** 1 week\n",
      "    - **Resources Required:** \n",
      "      - Designer: 1 (Bob Smith)\n",
      "      - Content Writer: 1 (Internal resource or freelancer)\n",
      "    - **Effort:** 40 hours\n",
      "    - **Deliverables:** Testimonials design and content.\n",
      "    - **Risks/Uncertainties:** Client may delay content submission.\n",
      "\n",
      "---\n",
      "\n",
      "### Summary of Risks and Uncertainties\n",
      "- **Content Delays:** Many tasks depend on the timely provision of content; delays here can have a cascading effect on the project timeline.\n",
      "- **Client Feedback:** Late feedback or changes in direction could necessitate rework.\n",
      "- **Technical Challenges:** Any dependency on technology (like APIs or integrations) may introduce risks if these don't work as envisioned.\n",
      "\n",
      "### Conclusion\n",
      "This estimation report provides a comprehensive breakdown of time, resources, and effort required for each task in the Website project, anticipating potential risks that may affect deadlines or deliverables. By maintaining open communication with the team and the client, it is possible to mitigate these risks and ensure successful project completion within the specified timeframe.\u001b[00m\n",
      "\n",
      "\n",
      "\u001b[1m\u001b[95m# Agent:\u001b[00m \u001b[1m\u001b[92mResource Allocation Strategist\u001b[00m\n",
      "\u001b[95m## Task:\u001b[00m \u001b[92mStrategically allocate tasks for the Website project to team members based on their skills, availability, and current workload. Ensure that each task is assigned to the most suitable team member and that the workload is evenly distributed.\n",
      "\n",
      "Team members:\n",
      "\n",
      "- John Doe (Project Manager)\n",
      "- Jane Doe (Software Engineer)\n",
      "- Bob Smith (Designer)\n",
      "- Alice Johnson (QA Engineer)\n",
      "- Tom Brown (QA Engineer)\n",
      "\n",
      "\u001b[00m\n"
     ]
    },
    {
     "name": "stdout",
     "output_type": "stream",
     "text": [
      "\n",
      "\n",
      "\u001b[1m\u001b[95m# Agent:\u001b[00m \u001b[1m\u001b[92mResource Allocation Strategist\u001b[00m\n",
      "\u001b[95m## Final Answer:\u001b[00m \u001b[92m\n",
      "### Resource Allocation Chart for the Website Project\n",
      "\n",
      "| Task                                          | Team Member       | Start Date  | End Date    | Estimated Time (weeks) |\n",
      "|-----------------------------------------------|-------------------|-------------|-------------|-------------------------|\n",
      "| Create a Responsive Design                    | Bob Smith (Designer) | 01-Oct-2023 | 14-Oct-2023 | 2                       |\n",
      "| Implement a Modern User Interface             | Bob Smith (Designer)<br>Jane Doe (Software Engineer)  | 15-Oct-2023 | 21-Oct-2023 | 1                       |\n",
      "| Develop a User-Friendly Navigation System     | Jane Doe (Software Engineer) | 15-Oct-2023 | 21-Oct-2023 | 1                       |\n",
      "| Include an \"About Us\" Page                    | Bob Smith (Designer) | 22-Oct-2023 | 28-Oct-2023 | 1                       |\n",
      "| Design a \"Services\" Page                      | Bob Smith (Designer) | 29-Oct-2023 | 04-Nov-2023 | 1                       |\n",
      "| Create a \"Contact Us\" Page                   | Jane Doe (Software Engineer) | 22-Oct-2023 | 28-Oct-2023 | 1                       |\n",
      "| Implement a Blog Section                      | Jane Doe (Software Engineer) | 29-Oct-2023 | 14-Nov-2023 | 1.5                     |\n",
      "| Ensure SEO Optimization and Fast Loading Times | Jane Doe (Software Engineer) | 15-Nov-2023 | 21-Nov-2023 | 1                       |\n",
      "| Integrate Social Media Links and Sharing Capabilities | Jane Doe (Software Engineer) | 22-Nov-2023 | 28-Nov-2023 | 1                       |\n",
      "| Include a Testimonials Section                 | Bob Smith (Designer) | 29-Oct-2023 | 04-Nov-2023 | 1                       |\n",
      "\n",
      "### Rationale Behind Each Allocation Decision:\n",
      "\n",
      "1. **Create a Responsive Design**: Bob Smith is assigned since this task demands strong design skills and he has expertise in creating adaptable designs. The task requires two weeks due to the complexity of ensuring responsiveness across devices.\n",
      "\n",
      "2. **Implement a Modern User Interface**: Both Bob Smith and Jane Doe are allocated here; Bob contributes his design knowledge while Jane can implement the UI as a Software Engineer. Given that the UI implementation follows the responsive design, the task fits well in the timeframe of the second week.\n",
      "\n",
      "3. **Develop a User-Friendly Navigation System**: This task is solely assigned to Jane Doe who has the skills needed to plan and develop an effective navigation structure. The one-week timeframe allows her to concentrate on delivering a high-quality result right after finalizing the UI.\n",
      "\n",
      "4. **Include an \"About Us\" Page**: Bob Smith is assigned this task to ensure the design quality is maintained while offering flexibility to include feedback. A one-week frame is assumed to allow plenty of time for client review.\n",
      "\n",
      "5. **Design a \"Services\" Page**: Similarly, Bob Smith is allocated this task, as it parallels the requirements of the \"About Us\" page. Continuity of design element ensures cohesiveness across pages.\n",
      "\n",
      "6. **Create a \"Contact Us\" Page**: This task is assigned to Jane Doe who has the technical expertise to implement the page's functionalities effectively in just one week, coinciding with the timeline of the design pages.\n",
      "\n",
      "7. **Implement a Blog Section**: Jane Doe is required for this task, along with a content writer (external resource) to ensure timely content delivery. The duration spans 1.5 weeks to cater to both setup and initial content posting.\n",
      "\n",
      "8. **Ensure SEO Optimization and Fast Loading Times**: Assigned to Jane Doe to leverage her development skills towards improving SEO. The one-week timeframe provides a well-defined schedule to focus on optimizing the site post-implementation.\n",
      "\n",
      "9. **Integrate Social Media Links and Sharing Capabilities**: After completing the blog and SEO tasks, Jane will have the insight needed to effectively integrate relevant social features over one week.\n",
      "\n",
      "10. **Include a Testimonials Section**: This task is given to Bob Smith because it involves both design and content, maintaining consistency in style and approach. The timeline aligns with his availability from the previous layout tasks.\n",
      "\n",
      "**Summary of Workload Distribution**: \n",
      "- Bob Smith's tasks are front-loaded, maximizing design time early in the project while allowing content production to overlap effectively. \n",
      "- Jane Doe maintains a consistent stream of duties that fit perfectly in the development phase while ensuring that there is no overlapping pressure on her schedule. \n",
      "- This allocation methodically ensures no individual is overburdened and that each task's complexity is matched with the right expertise, ultimately maximizing the project's success with optimal efficiency.\u001b[00m\n",
      "\n",
      "\n"
     ]
    }
   ],
   "source": [
    "# The given Python dictionary\n",
    "inputs = {\n",
    "  'project_type': project,\n",
    "  'project_objectives': project_objectives,\n",
    "  'industry': industry,\n",
    "  'team_members': team_members,\n",
    "  'project_requirements': project_requirements\n",
    "}\n",
    "\n",
    "# Run the crew\n",
    "result = crew.kickoff(\n",
    "  inputs=inputs\n",
    ")"
   ]
  },
  {
   "cell_type": "markdown",
   "id": "7879258f-52df-4503-b08e-acd516d0a946",
   "metadata": {},
   "source": [
    "## Usage Metrics and Costs"
   ]
  },
  {
   "cell_type": "markdown",
   "id": "d94dad33-91c9-4aac-8e16-24117dbbef46",
   "metadata": {},
   "source": [
    "Let’s see how much it would cost each time if this crew runs at scale."
   ]
  },
  {
   "cell_type": "code",
   "execution_count": 19,
   "id": "66b3b165-2a4b-46cc-93f7-696dffff1e10",
   "metadata": {
    "height": 149
   },
   "outputs": [
    {
     "name": "stdout",
     "output_type": "stream",
     "text": [
      "Total costs: $0.0030\n"
     ]
    },
    {
     "data": {
      "text/html": [
       "<div>\n",
       "<style scoped>\n",
       "    .dataframe tbody tr th:only-of-type {\n",
       "        vertical-align: middle;\n",
       "    }\n",
       "\n",
       "    .dataframe tbody tr th {\n",
       "        vertical-align: top;\n",
       "    }\n",
       "\n",
       "    .dataframe thead th {\n",
       "        text-align: right;\n",
       "    }\n",
       "</style>\n",
       "<table border=\"1\" class=\"dataframe\">\n",
       "  <thead>\n",
       "    <tr style=\"text-align: right;\">\n",
       "      <th></th>\n",
       "      <th>total_tokens</th>\n",
       "      <th>prompt_tokens</th>\n",
       "      <th>completion_tokens</th>\n",
       "      <th>successful_requests</th>\n",
       "    </tr>\n",
       "  </thead>\n",
       "  <tbody>\n",
       "    <tr>\n",
       "      <th>0</th>\n",
       "      <td>19733</td>\n",
       "      <td>11928</td>\n",
       "      <td>7805</td>\n",
       "      <td>9</td>\n",
       "    </tr>\n",
       "  </tbody>\n",
       "</table>\n",
       "</div>"
      ],
      "text/plain": [
       "   total_tokens  prompt_tokens  completion_tokens  successful_requests\n",
       "0         19733          11928               7805                    9"
      ]
     },
     "execution_count": 19,
     "metadata": {},
     "output_type": "execute_result"
    }
   ],
   "source": [
    "import pandas as pd\n",
    "\n",
    "costs = 0.150 * (crew.usage_metrics.prompt_tokens + crew.usage_metrics.completion_tokens) / 1_000_000\n",
    "print(f\"Total costs: ${costs:.4f}\")\n",
    "\n",
    "# Convert UsageMetrics instance to a DataFrame\n",
    "df_usage_metrics = pd.DataFrame([crew.usage_metrics.dict()])\n",
    "df_usage_metrics"
   ]
  },
  {
   "cell_type": "markdown",
   "id": "4982e83a-9e54-4510-9f06-751b34848287",
   "metadata": {},
   "source": [
    "## Result"
   ]
  },
  {
   "cell_type": "code",
   "execution_count": 20,
   "id": "6396b0f6-e3ae-4a89-a3e9-ca53aa042c40",
   "metadata": {
    "height": 30
   },
   "outputs": [
    {
     "data": {
      "text/plain": [
       "{'tasks': [{'task_name': 'Create a Responsive Design',\n",
       "   'estimated_time_hours': 80.0,\n",
       "   'required_resources': ['Bob Smith (Designer)']},\n",
       "  {'task_name': 'Implement a Modern User Interface',\n",
       "   'estimated_time_hours': 40.0,\n",
       "   'required_resources': ['Bob Smith (Designer)',\n",
       "    'Jane Doe (Software Engineer)']},\n",
       "  {'task_name': 'Develop a User-Friendly Navigation System',\n",
       "   'estimated_time_hours': 40.0,\n",
       "   'required_resources': ['Jane Doe (Software Engineer)']},\n",
       "  {'task_name': \"Include an 'About Us' Page\",\n",
       "   'estimated_time_hours': 40.0,\n",
       "   'required_resources': ['Bob Smith (Designer)']},\n",
       "  {'task_name': \"Design a 'Services' Page\",\n",
       "   'estimated_time_hours': 40.0,\n",
       "   'required_resources': ['Bob Smith (Designer)']},\n",
       "  {'task_name': \"Create a 'Contact Us' Page\",\n",
       "   'estimated_time_hours': 40.0,\n",
       "   'required_resources': ['Jane Doe (Software Engineer)']},\n",
       "  {'task_name': 'Implement a Blog Section',\n",
       "   'estimated_time_hours': 60.0,\n",
       "   'required_resources': ['Jane Doe (Software Engineer)',\n",
       "    'External Content Writer']},\n",
       "  {'task_name': 'Ensure SEO Optimization and Fast Loading Times',\n",
       "   'estimated_time_hours': 40.0,\n",
       "   'required_resources': ['Jane Doe (Software Engineer)']},\n",
       "  {'task_name': 'Integrate Social Media Links and Sharing Capabilities',\n",
       "   'estimated_time_hours': 40.0,\n",
       "   'required_resources': ['Jane Doe (Software Engineer)']},\n",
       "  {'task_name': 'Include a Testimonials Section',\n",
       "   'estimated_time_hours': 40.0,\n",
       "   'required_resources': ['Bob Smith (Designer)']}],\n",
       " 'milestones': [{'milestone_name': 'Phase 1: Initial Design Completed',\n",
       "   'tasks': ['Create a Responsive Design',\n",
       "    \"Include an 'About Us' Page\",\n",
       "    \"Design a 'Services' Page\",\n",
       "    'Include a Testimonials Section']},\n",
       "  {'milestone_name': 'Phase 2: Development Complete',\n",
       "   'tasks': ['Implement a Modern User Interface',\n",
       "    'Develop a User-Friendly Navigation System',\n",
       "    \"Create a 'Contact Us' Page\",\n",
       "    'Implement a Blog Section']},\n",
       "  {'milestone_name': 'Phase 3: Optimization and Launch',\n",
       "   'tasks': ['Ensure SEO Optimization and Fast Loading Times',\n",
       "    'Integrate Social Media Links and Sharing Capabilities']}]}"
      ]
     },
     "execution_count": 20,
     "metadata": {},
     "output_type": "execute_result"
    }
   ],
   "source": [
    "result.pydantic.dict()"
   ]
  },
  {
   "cell_type": "markdown",
   "id": "18ffcc83-350e-4f99-b03b-458690cc0ed2",
   "metadata": {},
   "source": [
    "## Inspect further"
   ]
  },
  {
   "cell_type": "code",
   "execution_count": 21,
   "id": "da1bbf90-4bfc-4529-84dd-d0bd00198353",
   "metadata": {
    "height": 132
   },
   "outputs": [
    {
     "data": {
      "text/html": [
       "<style type=\"text/css\">\n",
       "#T_a2b72 th {\n",
       "  font-size: 120%;\n",
       "}\n",
       "#T_a2b72  td {\n",
       "  font-size: 120%;\n",
       "}\n",
       "</style>\n",
       "<table id=\"T_a2b72\" border=\"1\">\n",
       "  <caption>Task Details</caption>\n",
       "  <thead>\n",
       "    <tr>\n",
       "      <th class=\"blank level0\" >&nbsp;</th>\n",
       "      <th id=\"T_a2b72_level0_col0\" class=\"col_heading level0 col0\" >task_name</th>\n",
       "      <th id=\"T_a2b72_level0_col1\" class=\"col_heading level0 col1\" >estimated_time_hours</th>\n",
       "      <th id=\"T_a2b72_level0_col2\" class=\"col_heading level0 col2\" >required_resources</th>\n",
       "    </tr>\n",
       "  </thead>\n",
       "  <tbody>\n",
       "    <tr>\n",
       "      <th id=\"T_a2b72_level0_row0\" class=\"row_heading level0 row0\" >0</th>\n",
       "      <td id=\"T_a2b72_row0_col0\" class=\"data row0 col0\" >Create a Responsive Design</td>\n",
       "      <td id=\"T_a2b72_row0_col1\" class=\"data row0 col1\" >80.000000</td>\n",
       "      <td id=\"T_a2b72_row0_col2\" class=\"data row0 col2\" >['Bob Smith (Designer)']</td>\n",
       "    </tr>\n",
       "    <tr>\n",
       "      <th id=\"T_a2b72_level0_row1\" class=\"row_heading level0 row1\" >1</th>\n",
       "      <td id=\"T_a2b72_row1_col0\" class=\"data row1 col0\" >Implement a Modern User Interface</td>\n",
       "      <td id=\"T_a2b72_row1_col1\" class=\"data row1 col1\" >40.000000</td>\n",
       "      <td id=\"T_a2b72_row1_col2\" class=\"data row1 col2\" >['Bob Smith (Designer)', 'Jane Doe (Software Engineer)']</td>\n",
       "    </tr>\n",
       "    <tr>\n",
       "      <th id=\"T_a2b72_level0_row2\" class=\"row_heading level0 row2\" >2</th>\n",
       "      <td id=\"T_a2b72_row2_col0\" class=\"data row2 col0\" >Develop a User-Friendly Navigation System</td>\n",
       "      <td id=\"T_a2b72_row2_col1\" class=\"data row2 col1\" >40.000000</td>\n",
       "      <td id=\"T_a2b72_row2_col2\" class=\"data row2 col2\" >['Jane Doe (Software Engineer)']</td>\n",
       "    </tr>\n",
       "    <tr>\n",
       "      <th id=\"T_a2b72_level0_row3\" class=\"row_heading level0 row3\" >3</th>\n",
       "      <td id=\"T_a2b72_row3_col0\" class=\"data row3 col0\" >Include an 'About Us' Page</td>\n",
       "      <td id=\"T_a2b72_row3_col1\" class=\"data row3 col1\" >40.000000</td>\n",
       "      <td id=\"T_a2b72_row3_col2\" class=\"data row3 col2\" >['Bob Smith (Designer)']</td>\n",
       "    </tr>\n",
       "    <tr>\n",
       "      <th id=\"T_a2b72_level0_row4\" class=\"row_heading level0 row4\" >4</th>\n",
       "      <td id=\"T_a2b72_row4_col0\" class=\"data row4 col0\" >Design a 'Services' Page</td>\n",
       "      <td id=\"T_a2b72_row4_col1\" class=\"data row4 col1\" >40.000000</td>\n",
       "      <td id=\"T_a2b72_row4_col2\" class=\"data row4 col2\" >['Bob Smith (Designer)']</td>\n",
       "    </tr>\n",
       "    <tr>\n",
       "      <th id=\"T_a2b72_level0_row5\" class=\"row_heading level0 row5\" >5</th>\n",
       "      <td id=\"T_a2b72_row5_col0\" class=\"data row5 col0\" >Create a 'Contact Us' Page</td>\n",
       "      <td id=\"T_a2b72_row5_col1\" class=\"data row5 col1\" >40.000000</td>\n",
       "      <td id=\"T_a2b72_row5_col2\" class=\"data row5 col2\" >['Jane Doe (Software Engineer)']</td>\n",
       "    </tr>\n",
       "    <tr>\n",
       "      <th id=\"T_a2b72_level0_row6\" class=\"row_heading level0 row6\" >6</th>\n",
       "      <td id=\"T_a2b72_row6_col0\" class=\"data row6 col0\" >Implement a Blog Section</td>\n",
       "      <td id=\"T_a2b72_row6_col1\" class=\"data row6 col1\" >60.000000</td>\n",
       "      <td id=\"T_a2b72_row6_col2\" class=\"data row6 col2\" >['Jane Doe (Software Engineer)', 'External Content Writer']</td>\n",
       "    </tr>\n",
       "    <tr>\n",
       "      <th id=\"T_a2b72_level0_row7\" class=\"row_heading level0 row7\" >7</th>\n",
       "      <td id=\"T_a2b72_row7_col0\" class=\"data row7 col0\" >Ensure SEO Optimization and Fast Loading Times</td>\n",
       "      <td id=\"T_a2b72_row7_col1\" class=\"data row7 col1\" >40.000000</td>\n",
       "      <td id=\"T_a2b72_row7_col2\" class=\"data row7 col2\" >['Jane Doe (Software Engineer)']</td>\n",
       "    </tr>\n",
       "    <tr>\n",
       "      <th id=\"T_a2b72_level0_row8\" class=\"row_heading level0 row8\" >8</th>\n",
       "      <td id=\"T_a2b72_row8_col0\" class=\"data row8 col0\" >Integrate Social Media Links and Sharing Capabilities</td>\n",
       "      <td id=\"T_a2b72_row8_col1\" class=\"data row8 col1\" >40.000000</td>\n",
       "      <td id=\"T_a2b72_row8_col2\" class=\"data row8 col2\" >['Jane Doe (Software Engineer)']</td>\n",
       "    </tr>\n",
       "    <tr>\n",
       "      <th id=\"T_a2b72_level0_row9\" class=\"row_heading level0 row9\" >9</th>\n",
       "      <td id=\"T_a2b72_row9_col0\" class=\"data row9 col0\" >Include a Testimonials Section</td>\n",
       "      <td id=\"T_a2b72_row9_col1\" class=\"data row9 col1\" >40.000000</td>\n",
       "      <td id=\"T_a2b72_row9_col2\" class=\"data row9 col2\" >['Bob Smith (Designer)']</td>\n",
       "    </tr>\n",
       "  </tbody>\n",
       "</table>\n"
      ],
      "text/plain": [
       "<pandas.io.formats.style.Styler at 0x7fa5497e7790>"
      ]
     },
     "execution_count": 21,
     "metadata": {},
     "output_type": "execute_result"
    }
   ],
   "source": [
    "tasks = result.pydantic.dict()['tasks']\n",
    "df_tasks = pd.DataFrame(tasks)\n",
    "\n",
    "# Display the DataFrame as an HTML table\n",
    "df_tasks.style.set_table_attributes('border=\"1\"').set_caption(\"Task Details\").set_table_styles(\n",
    "    [{'selector': 'th, td', 'props': [('font-size', '120%')]}]\n",
    ")"
   ]
  },
  {
   "cell_type": "markdown",
   "id": "1210cae8-e028-4f7e-90ed-950ef86d41e5",
   "metadata": {},
   "source": [
    "### Inspecting Milestones"
   ]
  },
  {
   "cell_type": "code",
   "execution_count": 22,
   "id": "91c2f18c-2d5b-41a9-837b-265e7aa245d0",
   "metadata": {
    "height": 132
   },
   "outputs": [
    {
     "data": {
      "text/html": [
       "<style type=\"text/css\">\n",
       "#T_6f22f th {\n",
       "  font-size: 120%;\n",
       "}\n",
       "#T_6f22f  td {\n",
       "  font-size: 120%;\n",
       "}\n",
       "</style>\n",
       "<table id=\"T_6f22f\" border=\"1\">\n",
       "  <caption>Task Details</caption>\n",
       "  <thead>\n",
       "    <tr>\n",
       "      <th class=\"blank level0\" >&nbsp;</th>\n",
       "      <th id=\"T_6f22f_level0_col0\" class=\"col_heading level0 col0\" >milestone_name</th>\n",
       "      <th id=\"T_6f22f_level0_col1\" class=\"col_heading level0 col1\" >tasks</th>\n",
       "    </tr>\n",
       "  </thead>\n",
       "  <tbody>\n",
       "    <tr>\n",
       "      <th id=\"T_6f22f_level0_row0\" class=\"row_heading level0 row0\" >0</th>\n",
       "      <td id=\"T_6f22f_row0_col0\" class=\"data row0 col0\" >Phase 1: Initial Design Completed</td>\n",
       "      <td id=\"T_6f22f_row0_col1\" class=\"data row0 col1\" >['Create a Responsive Design', \"Include an 'About Us' Page\", \"Design a 'Services' Page\", 'Include a Testimonials Section']</td>\n",
       "    </tr>\n",
       "    <tr>\n",
       "      <th id=\"T_6f22f_level0_row1\" class=\"row_heading level0 row1\" >1</th>\n",
       "      <td id=\"T_6f22f_row1_col0\" class=\"data row1 col0\" >Phase 2: Development Complete</td>\n",
       "      <td id=\"T_6f22f_row1_col1\" class=\"data row1 col1\" >['Implement a Modern User Interface', 'Develop a User-Friendly Navigation System', \"Create a 'Contact Us' Page\", 'Implement a Blog Section']</td>\n",
       "    </tr>\n",
       "    <tr>\n",
       "      <th id=\"T_6f22f_level0_row2\" class=\"row_heading level0 row2\" >2</th>\n",
       "      <td id=\"T_6f22f_row2_col0\" class=\"data row2 col0\" >Phase 3: Optimization and Launch</td>\n",
       "      <td id=\"T_6f22f_row2_col1\" class=\"data row2 col1\" >['Ensure SEO Optimization and Fast Loading Times', 'Integrate Social Media Links and Sharing Capabilities']</td>\n",
       "    </tr>\n",
       "  </tbody>\n",
       "</table>\n"
      ],
      "text/plain": [
       "<pandas.io.formats.style.Styler at 0x7fa54a1ab2d0>"
      ]
     },
     "execution_count": 22,
     "metadata": {},
     "output_type": "execute_result"
    }
   ],
   "source": [
    "milestones = result.pydantic.dict()['milestones']\n",
    "df_milestones = pd.DataFrame(milestones)\n",
    "\n",
    "# Display the DataFrame as an HTML table\n",
    "df_milestones.style.set_table_attributes('border=\"1\"').set_caption(\"Task Details\").set_table_styles(\n",
    "    [{'selector': 'th, td', 'props': [('font-size', '120%')]}]\n",
    ")"
   ]
  },
  {
   "cell_type": "code",
   "execution_count": null,
   "id": "a593fd80-36ef-48a1-a7c7-e45c37815f67",
   "metadata": {
    "height": 30
   },
   "outputs": [],
   "source": []
  },
  {
   "cell_type": "code",
   "execution_count": null,
   "id": "2e2c2526-de6d-4006-bd25-8c51e1f3d5f7",
   "metadata": {
    "height": 30
   },
   "outputs": [],
   "source": []
  },
  {
   "cell_type": "code",
   "execution_count": null,
   "id": "1ac3e1e0-e14f-446e-a912-18794337925c",
   "metadata": {
    "height": 30
   },
   "outputs": [],
   "source": []
  },
  {
   "cell_type": "code",
   "execution_count": null,
   "id": "c34b5062-29e2-4fbb-b771-02f5f547e47c",
   "metadata": {
    "height": 30
   },
   "outputs": [],
   "source": []
  },
  {
   "cell_type": "code",
   "execution_count": null,
   "id": "70303180-389e-4e90-8444-aba384ec8751",
   "metadata": {
    "height": 30
   },
   "outputs": [],
   "source": []
  },
  {
   "cell_type": "code",
   "execution_count": null,
   "id": "109926d3-50e5-43e7-87f8-a1d38e45d79d",
   "metadata": {
    "height": 30
   },
   "outputs": [],
   "source": []
  }
 ],
 "metadata": {
  "kernelspec": {
   "display_name": "Python 3 (ipykernel)",
   "language": "python",
   "name": "python3"
  },
  "language_info": {
   "codemirror_mode": {
    "name": "ipython",
    "version": 3
   },
   "file_extension": ".py",
   "mimetype": "text/x-python",
   "name": "python",
   "nbconvert_exporter": "python",
   "pygments_lexer": "ipython3",
   "version": "3.11.9"
  }
 },
 "nbformat": 4,
 "nbformat_minor": 5
}
